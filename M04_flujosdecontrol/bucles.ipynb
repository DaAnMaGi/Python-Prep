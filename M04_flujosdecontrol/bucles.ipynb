{
 "cells": [
  {
   "cell_type": "code",
   "execution_count": 1,
   "metadata": {},
   "outputs": [
    {
     "name": "stdout",
     "output_type": "stream",
     "text": [
      "1\n"
     ]
    }
   ],
   "source": [
    "suma = 0\n",
    "\n",
    "suma +=1\n",
    "print(suma)"
   ]
  },
  {
   "cell_type": "code",
   "execution_count": 2,
   "metadata": {},
   "outputs": [
    {
     "name": "stdout",
     "output_type": "stream",
     "text": [
      "3\n"
     ]
    }
   ],
   "source": [
    "suma +=2\n",
    "print(suma)"
   ]
  },
  {
   "cell_type": "code",
   "execution_count": 3,
   "metadata": {},
   "outputs": [
    {
     "name": "stdout",
     "output_type": "stream",
     "text": [
      "2\n",
      "3\n",
      "4\n",
      "5\n",
      "6\n"
     ]
    }
   ],
   "source": [
    "numeros=[1,2,3,4,5]\n",
    "\n",
    "for num in numeros:\n",
    "    suma = num+1\n",
    "    print(suma)"
   ]
  },
  {
   "cell_type": "code",
   "execution_count": 4,
   "metadata": {},
   "outputs": [
    {
     "name": "stdout",
     "output_type": "stream",
     "text": [
      "2\n",
      "3\n",
      "4\n",
      "5\n",
      "6\n"
     ]
    }
   ],
   "source": [
    "for i in range(1,6):\n",
    "    suma = i+1\n",
    "    print(suma)"
   ]
  },
  {
   "cell_type": "code",
   "execution_count": 7,
   "metadata": {},
   "outputs": [
    {
     "name": "stdout",
     "output_type": "stream",
     "text": [
      "Variable de iteración:  1 Resultado =  2\n",
      "Variable de iteración:  2 Resultado =  3\n",
      "Variable de iteración:  3 Resultado =  4\n",
      "Variable de iteración:  4 Resultado =  5\n",
      "Variable de iteración:  5 Resultado =  6\n"
     ]
    }
   ],
   "source": [
    "for i in range(1,6):\n",
    "    suma = i + 1\n",
    "    print(\"Variable de iteración: \",i,\"Resultado = \",suma)\n",
    "\n",
    "# Se utiliza mientras conocemos el número de iteraciones, o el total de pasos específicos necesarios para completar la tarea."
   ]
  },
  {
   "cell_type": "code",
   "execution_count": 8,
   "metadata": {},
   "outputs": [
    {
     "name": "stdout",
     "output_type": "stream",
     "text": [
      "Num:  1\n",
      "Num:  2\n",
      "Num:  3\n",
      "Num:  4\n",
      "Num:  5\n"
     ]
    }
   ],
   "source": [
    "num = 1\n",
    "while num <6:\n",
    "    print(\"Num: \",num)\n",
    "    num +=1\n",
    "\n",
    "# Se utiliza cuando no conocemos con exactitud el número de pasos necesarios, pero conocemos la condición verdadera que ha de cumplirse para finalizar el bucle.\n",
    "\n",
    "# En caso de que no se especifique una condición para falsear el código, este se repetirá indefinidamente. En este caso debe de usarse la opción \"Detener código\""
   ]
  }
 ],
 "metadata": {
  "kernelspec": {
   "display_name": "Python 3",
   "language": "python",
   "name": "python3"
  },
  "language_info": {
   "codemirror_mode": {
    "name": "ipython",
    "version": 3
   },
   "file_extension": ".py",
   "mimetype": "text/x-python",
   "name": "python",
   "nbconvert_exporter": "python",
   "pygments_lexer": "ipython3",
   "version": "3.11.3"
  },
  "orig_nbformat": 4
 },
 "nbformat": 4,
 "nbformat_minor": 2
}
