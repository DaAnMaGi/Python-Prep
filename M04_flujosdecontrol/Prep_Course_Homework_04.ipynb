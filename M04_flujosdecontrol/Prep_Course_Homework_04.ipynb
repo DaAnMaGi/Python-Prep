{
 "cells": [
  {
   "attachments": {},
   "cell_type": "markdown",
   "metadata": {},
   "source": [
    "## Flujos de Control"
   ]
  },
  {
   "attachments": {},
   "cell_type": "markdown",
   "metadata": {},
   "source": [
    "1) Crear una variable que contenga un elemento del conjunto de números enteros y luego imprimir por pantalla si es mayor o menor a cero"
   ]
  },
  {
   "cell_type": "code",
   "execution_count": 17,
   "metadata": {},
   "outputs": [
    {
     "name": "stdout",
     "output_type": "stream",
     "text": [
      "Mayor a cero\n"
     ]
    }
   ],
   "source": [
    "var = 2\n",
    "if var > 0:\n",
    "    print(\"Mayor a cero\")\n",
    "elif var < 0:\n",
    "    print(\"Menor a cero\")\n",
    "else:\n",
    "    print(\"Igual a cero\")"
   ]
  },
  {
   "attachments": {},
   "cell_type": "markdown",
   "metadata": {},
   "source": [
    "2) Crear dos variables y un condicional que informe si son del mismo tipo de dato"
   ]
  },
  {
   "cell_type": "code",
   "execution_count": 5,
   "metadata": {},
   "outputs": [
    {
     "name": "stdout",
     "output_type": "stream",
     "text": [
      "Son el mismo tipo de dato\n"
     ]
    }
   ],
   "source": [
    "var1 = 1\n",
    "var2 = 6\n",
    "\n",
    "if type(var1) == type(var2):\n",
    "    print(\"Son el mismo tipo de dato\")\n",
    "else:\n",
    "    print(\"Son tipos de datos diferentes\")\n"
   ]
  },
  {
   "attachments": {},
   "cell_type": "markdown",
   "metadata": {},
   "source": [
    "3) Para los valores enteros del 1 al 20, imprimir por pantalla si es par o impar"
   ]
  },
  {
   "cell_type": "code",
   "execution_count": 6,
   "metadata": {},
   "outputs": [
    {
     "name": "stdout",
     "output_type": "stream",
     "text": [
      "1 es un número impar\n",
      "2 es un número par\n",
      "3 es un número impar\n",
      "4 es un número par\n",
      "5 es un número impar\n",
      "6 es un número par\n",
      "7 es un número impar\n",
      "8 es un número par\n",
      "9 es un número impar\n",
      "10 es un número par\n",
      "11 es un número impar\n",
      "12 es un número par\n",
      "13 es un número impar\n",
      "14 es un número par\n",
      "15 es un número impar\n",
      "16 es un número par\n",
      "17 es un número impar\n",
      "18 es un número par\n",
      "19 es un número impar\n"
     ]
    }
   ],
   "source": [
    "for i in range(1,20):\n",
    "    if i%2 == 0:\n",
    "        print(i,\"es un número par\")\n",
    "    else:\n",
    "        print(i,\"es un número impar\")"
   ]
  },
  {
   "attachments": {},
   "cell_type": "markdown",
   "metadata": {},
   "source": [
    "4) En un ciclo for mostrar para los valores entre 0 y 5 el resultado de elevarlo a la potencia igual a 3"
   ]
  },
  {
   "cell_type": "code",
   "execution_count": 18,
   "metadata": {},
   "outputs": [
    {
     "name": "stdout",
     "output_type": "stream",
     "text": [
      "0\n",
      "1\n",
      "8\n",
      "27\n",
      "64\n",
      "125\n"
     ]
    }
   ],
   "source": [
    "for i in range(0,6):\n",
    "    i**=3\n",
    "    print(i)"
   ]
  },
  {
   "attachments": {},
   "cell_type": "markdown",
   "metadata": {},
   "source": [
    "5) Crear una variable que contenga un número entero y realizar un ciclo for la misma cantidad de ciclos"
   ]
  },
  {
   "cell_type": "code",
   "execution_count": 19,
   "metadata": {},
   "outputs": [
    {
     "name": "stdout",
     "output_type": "stream",
     "text": [
      "Iteración 1  =  6\n",
      "Iteración 2  =  7\n",
      "Iteración 3  =  8\n",
      "Iteración 4  =  9\n"
     ]
    }
   ],
   "source": [
    "var = 5\n",
    "\n",
    "for i in range(1,var):\n",
    "    var+=1\n",
    "    print(\"Iteración\",i,\" = \",var)"
   ]
  },
  {
   "attachments": {},
   "cell_type": "markdown",
   "metadata": {},
   "source": [
    "6) Utilizar un ciclo while para realizar el factorial de un número guardado en una variable, sólo si la variable contiene un número entero mayor a 0"
   ]
  },
  {
   "cell_type": "code",
   "execution_count": 1,
   "metadata": {},
   "outputs": [
    {
     "name": "stdout",
     "output_type": "stream",
     "text": [
      "El factorial es 30\n",
      "El factorial es 120\n",
      "El factorial es 360\n",
      "El factorial es 720\n"
     ]
    }
   ],
   "source": [
    "x = 6\n",
    "\n",
    "if (type(x) == int):\n",
    "    if (x > 0):\n",
    "        factorial = x\n",
    "        while (x > 2):\n",
    "            x = x -1\n",
    "            factorial = x * factorial\n",
    "            print (\"El factorial es\",factorial)\n",
    "    else: print(\"La variable no es mayor a 0\")\n",
    "else: print(\"La variable no es un entero\")\n"
   ]
  },
  {
   "attachments": {},
   "cell_type": "markdown",
   "metadata": {},
   "source": [
    "7) Crear un ciclo for dentro de un ciclo while"
   ]
  },
  {
   "cell_type": "code",
   "execution_count": 2,
   "metadata": {},
   "outputs": [
    {
     "name": "stdout",
     "output_type": "stream",
     "text": [
      "Para la iteración 1 x es igual a 7\n",
      "Para la iteración 2 x es igual a 6\n",
      "Para la iteración 3 x es igual a 5\n",
      "Para la iteración 4 x es igual a 4\n",
      "Para la iteración 5 x es igual a 3\n",
      "Para la iteración 6 x es igual a 2\n"
     ]
    }
   ],
   "source": [
    "x = 7\n",
    "\n",
    "while (x >= 2):\n",
    "    for i in range(1,x):\n",
    "        print(\"Para la iteración\",i,\"x es igual a\",x)\n",
    "        x -= 1"
   ]
  },
  {
   "attachments": {},
   "cell_type": "markdown",
   "metadata": {},
   "source": [
    "8) Crear un ciclo while dentro de un ciclo for"
   ]
  },
  {
   "cell_type": "code",
   "execution_count": 38,
   "metadata": {},
   "outputs": [
    {
     "name": "stdout",
     "output_type": "stream",
     "text": [
      "Ciclo for # 1\n",
      "Ciclo while # 9\n",
      "Ciclo while # 8\n",
      "Ciclo while # 7\n",
      "Ciclo while # 6\n",
      "Ciclo while # 5\n",
      "Ciclo while # 4\n",
      "Ciclo while # 3\n",
      "Ciclo while # 2\n",
      "Ciclo while # 1\n",
      "Ciclo for # 2\n",
      "Ciclo while # 9\n",
      "Ciclo while # 8\n",
      "Ciclo while # 7\n",
      "Ciclo while # 6\n",
      "Ciclo while # 5\n",
      "Ciclo while # 4\n",
      "Ciclo while # 3\n",
      "Ciclo while # 2\n",
      "Ciclo while # 1\n",
      "Ciclo for # 3\n",
      "Ciclo while # 9\n",
      "Ciclo while # 8\n",
      "Ciclo while # 7\n",
      "Ciclo while # 6\n",
      "Ciclo while # 5\n",
      "Ciclo while # 4\n",
      "Ciclo while # 3\n",
      "Ciclo while # 2\n",
      "Ciclo while # 1\n",
      "Ciclo for # 4\n",
      "Ciclo while # 9\n",
      "Ciclo while # 8\n",
      "Ciclo while # 7\n",
      "Ciclo while # 6\n",
      "Ciclo while # 5\n",
      "Ciclo while # 4\n",
      "Ciclo while # 3\n",
      "Ciclo while # 2\n",
      "Ciclo while # 1\n",
      "Ciclo for # 5\n",
      "Ciclo while # 9\n",
      "Ciclo while # 8\n",
      "Ciclo while # 7\n",
      "Ciclo while # 6\n",
      "Ciclo while # 5\n",
      "Ciclo while # 4\n",
      "Ciclo while # 3\n",
      "Ciclo while # 2\n",
      "Ciclo while # 1\n",
      "Ciclo for # 6\n",
      "Ciclo while # 9\n",
      "Ciclo while # 8\n",
      "Ciclo while # 7\n",
      "Ciclo while # 6\n",
      "Ciclo while # 5\n",
      "Ciclo while # 4\n",
      "Ciclo while # 3\n",
      "Ciclo while # 2\n",
      "Ciclo while # 1\n",
      "Ciclo for # 7\n",
      "Ciclo while # 9\n",
      "Ciclo while # 8\n",
      "Ciclo while # 7\n",
      "Ciclo while # 6\n",
      "Ciclo while # 5\n",
      "Ciclo while # 4\n",
      "Ciclo while # 3\n",
      "Ciclo while # 2\n",
      "Ciclo while # 1\n",
      "Ciclo for # 8\n",
      "Ciclo while # 9\n",
      "Ciclo while # 8\n",
      "Ciclo while # 7\n",
      "Ciclo while # 6\n",
      "Ciclo while # 5\n",
      "Ciclo while # 4\n",
      "Ciclo while # 3\n",
      "Ciclo while # 2\n",
      "Ciclo while # 1\n",
      "Ciclo for # 9\n",
      "Ciclo while # 9\n",
      "Ciclo while # 8\n",
      "Ciclo while # 7\n",
      "Ciclo while # 6\n",
      "Ciclo while # 5\n",
      "Ciclo while # 4\n",
      "Ciclo while # 3\n",
      "Ciclo while # 2\n",
      "Ciclo while # 1\n"
     ]
    }
   ],
   "source": [
    "var = 9\n",
    "\n",
    "for i in range(1,var+1):\n",
    "    print(\"Ciclo for #\",str(i))\n",
    "    var_t = var\n",
    "    while (var_t > 0):\n",
    "        print(\"Ciclo while #\",var_t)\n",
    "        var_t -= 1"
   ]
  },
  {
   "attachments": {},
   "cell_type": "markdown",
   "metadata": {},
   "source": [
    "9) Imprimir los números primos existentes entre 0 y 30"
   ]
  },
  {
   "cell_type": "code",
   "execution_count": 41,
   "metadata": {},
   "outputs": [
    {
     "name": "stdout",
     "output_type": "stream",
     "text": [
      "0\n",
      "1\n",
      "2\n",
      "3\n",
      "5\n",
      "7\n",
      "11\n",
      "13\n",
      "17\n",
      "19\n",
      "23\n",
      "29\n"
     ]
    }
   ],
   "source": [
    "top = 30\n",
    "n = 0\n",
    "primo = True\n",
    "\n",
    "while (n < top):\n",
    "    for i in range(2,n):\n",
    "        if (n%i) == 0:\n",
    "            primo = False\n",
    "    if (primo):\n",
    "        print(n)\n",
    "    else:\n",
    "        primo = True\n",
    "    n+=1"
   ]
  },
  {
   "attachments": {},
   "cell_type": "markdown",
   "metadata": {},
   "source": [
    "10) ¿Se puede mejorar el proceso del punto 9? Utilizar las sentencias break y/ó continue para tal fin"
   ]
  },
  {
   "cell_type": "code",
   "execution_count": 42,
   "metadata": {},
   "outputs": [
    {
     "name": "stdout",
     "output_type": "stream",
     "text": [
      "0\n",
      "1\n",
      "2\n",
      "3\n",
      "5\n",
      "7\n",
      "11\n",
      "13\n",
      "17\n",
      "19\n",
      "23\n",
      "29\n"
     ]
    }
   ],
   "source": [
    "top = 30\n",
    "n = 0\n",
    "primo = True\n",
    "\n",
    "while (n < top):\n",
    "    for i in range(2,n):\n",
    "        if (n%i) == 0:\n",
    "            primo = False\n",
    "            break\n",
    "    if (primo):\n",
    "        print(n)\n",
    "    else:\n",
    "        primo = True\n",
    "    n+=1"
   ]
  },
  {
   "attachments": {},
   "cell_type": "markdown",
   "metadata": {},
   "source": [
    "11) En los puntos 9 y 10, se diseño un código que encuentra números primos y además se lo optimizó. ¿Es posible saber en qué medida se optimizó?"
   ]
  },
  {
   "cell_type": "code",
   "execution_count": 47,
   "metadata": {},
   "outputs": [
    {
     "name": "stdout",
     "output_type": "stream",
     "text": [
      "0\n",
      "1\n",
      "2\n",
      "3\n",
      "5\n",
      "7\n",
      "11\n",
      "13\n",
      "17\n",
      "19\n",
      "23\n",
      "29\n",
      "Total de ciclos: 48\n",
      "Ciclos con break: 18\n",
      "Ciclos sin break: 30\n",
      "% ciclos con break: 37.5 %\n"
     ]
    }
   ],
   "source": [
    "top = 30\n",
    "n = 0\n",
    "primo = True\n",
    "\n",
    "ciclos_con_b = 0\n",
    "ciclos_sin_b = 0\n",
    "total_ciclos = 0\n",
    "\n",
    "while (n < top):\n",
    "    for i in range(2,n):\n",
    "        if (n%i) == 0:\n",
    "            primo = False\n",
    "            ciclos_con_b += 1\n",
    "            total_ciclos += 1\n",
    "            break\n",
    "    if (primo):\n",
    "        print(n)\n",
    "    else:\n",
    "        primo = True\n",
    "    n+=1\n",
    "    ciclos_sin_b +=1\n",
    "    total_ciclos += 1\n",
    "\n",
    "print(\"Total de ciclos:\",total_ciclos)\n",
    "print(\"Ciclos con break:\",ciclos_con_b)\n",
    "print(\"Ciclos sin break:\",ciclos_sin_b)\n",
    "print(\"% ciclos con break:\",str((ciclos_con_b/total_ciclos)*100),\"%\")"
   ]
  },
  {
   "attachments": {},
   "cell_type": "markdown",
   "metadata": {},
   "source": [
    "12) Si la cantidad de números que se evalúa es mayor a treinta, esa optimización crece?"
   ]
  },
  {
   "cell_type": "code",
   "execution_count": 48,
   "metadata": {},
   "outputs": [
    {
     "name": "stdout",
     "output_type": "stream",
     "text": [
      "0\n",
      "1\n",
      "2\n",
      "3\n",
      "5\n",
      "7\n",
      "11\n",
      "13\n",
      "17\n",
      "19\n",
      "23\n",
      "29\n",
      "31\n",
      "37\n",
      "41\n",
      "43\n",
      "47\n",
      "53\n",
      "59\n",
      "61\n",
      "67\n",
      "71\n",
      "73\n",
      "79\n",
      "83\n",
      "89\n",
      "Total de ciclos: 154\n",
      "Ciclos con break: 64\n",
      "Ciclos sin break: 90\n",
      "% ciclos con break: 41.55844155844156 %\n"
     ]
    }
   ],
   "source": [
    "top = 90\n",
    "n = 0\n",
    "primo = True\n",
    "\n",
    "ciclos_con_b = 0\n",
    "ciclos_sin_b = 0\n",
    "total_ciclos = 0\n",
    "\n",
    "while (n < top):\n",
    "    for i in range(2,n):\n",
    "        if (n%i) == 0:\n",
    "            primo = False\n",
    "            ciclos_con_b += 1\n",
    "            total_ciclos += 1\n",
    "            break\n",
    "    if (primo):\n",
    "        print(n)\n",
    "    else:\n",
    "        primo = True\n",
    "    n+=1\n",
    "    ciclos_sin_b +=1\n",
    "    total_ciclos += 1\n",
    "\n",
    "print(\"Total de ciclos:\",total_ciclos)\n",
    "print(\"Ciclos con break:\",ciclos_con_b)\n",
    "print(\"Ciclos sin break:\",ciclos_sin_b)\n",
    "print(\"% ciclos con break:\",str((ciclos_con_b/total_ciclos)*100),\"%\")\n",
    "\n",
    "# Sí, la optimización crece."
   ]
  },
  {
   "attachments": {},
   "cell_type": "markdown",
   "metadata": {},
   "source": [
    "13) Aplicando continue, armar un ciclo while que solo imprima los valores divisibles por 12, dentro del rango de números de 100 a 300"
   ]
  },
  {
   "cell_type": "code",
   "execution_count": 55,
   "metadata": {},
   "outputs": [
    {
     "name": "stdout",
     "output_type": "stream",
     "text": [
      "108  es divisible por 12\n",
      "120  es divisible por 12\n",
      "132  es divisible por 12\n",
      "144  es divisible por 12\n",
      "156  es divisible por 12\n",
      "168  es divisible por 12\n",
      "180  es divisible por 12\n",
      "192  es divisible por 12\n",
      "204  es divisible por 12\n",
      "216  es divisible por 12\n",
      "228  es divisible por 12\n",
      "240  es divisible por 12\n",
      "252  es divisible por 12\n",
      "264  es divisible por 12\n",
      "276  es divisible por 12\n",
      "288  es divisible por 12\n",
      "300  es divisible por 12\n"
     ]
    }
   ],
   "source": [
    "n = 99\n",
    "\n",
    "while (n <= 300):\n",
    "    n +=1\n",
    "    if(n%12 != 0):\n",
    "        continue\n",
    "    print(n,\" es divisible por 12\")"
   ]
  },
  {
   "attachments": {},
   "cell_type": "markdown",
   "metadata": {},
   "source": [
    "14) Utilizar la función **input()** que permite hacer ingresos por teclado, para encontrar números primos y dar la opción al usario de buscar el siguiente"
   ]
  },
  {
   "cell_type": "code",
   "execution_count": 58,
   "metadata": {},
   "outputs": [
    {
     "name": "stdout",
     "output_type": "stream",
     "text": [
      "0\n",
      "¿Deseas encontrar el siguiente primo?\n",
      "1\n",
      "¿Deseas encontrar el siguiente primo?\n",
      "2\n",
      "¿Deseas encontrar el siguiente primo?\n",
      "3\n",
      "¿Deseas encontrar el siguiente primo?\n",
      "5\n",
      "¿Deseas encontrar el siguiente primo?\n",
      "7\n",
      "¿Deseas encontrar el siguiente primo?\n",
      "11\n",
      "¿Deseas encontrar el siguiente primo?\n",
      "13\n",
      "¿Deseas encontrar el siguiente primo?\n",
      "17\n",
      "¿Deseas encontrar el siguiente primo?\n",
      "19\n",
      "¿Deseas encontrar el siguiente primo?\n",
      "23\n",
      "¿Deseas encontrar el siguiente primo?\n",
      "29\n",
      "¿Deseas encontrar el siguiente primo?\n",
      "31\n",
      "¿Deseas encontrar el siguiente primo?\n",
      "37\n",
      "¿Deseas encontrar el siguiente primo?\n",
      "41\n",
      "¿Deseas encontrar el siguiente primo?\n",
      "No se continua el proceso\n"
     ]
    }
   ],
   "source": [
    "n = 0\n",
    "primo = True\n",
    "\n",
    "siguiente_primo = 1\n",
    "\n",
    "while ( siguiente_primo == 1):\n",
    "    for i in range(2,n):\n",
    "        if (n%i) == 0:\n",
    "            primo = False\n",
    "            break\n",
    "    if (primo):\n",
    "        print(n)\n",
    "        print(\"¿Deseas encontrar el siguiente primo?\")\n",
    "        if(input() != \"1\"):\n",
    "            print(\"No se continua el proceso\")\n",
    "            break\n",
    "    else:\n",
    "        primo = True\n",
    "    n+=1"
   ]
  },
  {
   "attachments": {},
   "cell_type": "markdown",
   "metadata": {},
   "source": [
    "15) Crear un ciclo while que encuentre dentro del rango de 100 a 300 el primer número divisible por 3 y además múltiplo de 6"
   ]
  },
  {
   "cell_type": "code",
   "execution_count": 66,
   "metadata": {},
   "outputs": [
    {
     "name": "stdout",
     "output_type": "stream",
     "text": [
      "El primer número múltiplo de 6 y divisible por 3 es  102\n"
     ]
    }
   ],
   "source": [
    "n = 99\n",
    "\n",
    "while (n <= 300):\n",
    "    if(n%6 == 0):\n",
    "        print(\"El primer número múltiplo de 6 y divisible por 3 es \",str(n))\n",
    "        break\n",
    "    n+=1"
   ]
  }
 ],
 "metadata": {
  "interpreter": {
   "hash": "c85384e4cb51c8b72350f3a8712cc8351fdc3955e32a27f9b60c6242ab125f01"
  },
  "kernelspec": {
   "display_name": "Python 3 (ipykernel)",
   "language": "python",
   "name": "python3"
  },
  "language_info": {
   "codemirror_mode": {
    "name": "ipython",
    "version": 3
   },
   "file_extension": ".py",
   "mimetype": "text/x-python",
   "name": "python",
   "nbconvert_exporter": "python",
   "pygments_lexer": "ipython3",
   "version": "3.11.3"
  }
 },
 "nbformat": 4,
 "nbformat_minor": 4
}
