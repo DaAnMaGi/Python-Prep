{
 "cells": [
  {
   "cell_type": "code",
   "execution_count": 1,
   "metadata": {},
   "outputs": [
    {
     "name": "stdout",
     "output_type": "stream",
     "text": [
      "<class 'tuple'>\n"
     ]
    }
   ],
   "source": [
    "tupla = 2,3,4\n",
    "\n",
    "print(type(tupla))"
   ]
  },
  {
   "cell_type": "code",
   "execution_count": 2,
   "metadata": {},
   "outputs": [
    {
     "name": "stdout",
     "output_type": "stream",
     "text": [
      "2\n"
     ]
    }
   ],
   "source": [
    "a,b,c = tupla\n",
    "print(a)"
   ]
  },
  {
   "cell_type": "code",
   "execution_count": 7,
   "metadata": {},
   "outputs": [
    {
     "name": "stdout",
     "output_type": "stream",
     "text": [
      "1\n",
      "True\n",
      "2  se encuentra en (2, 3, 4)\n"
     ]
    }
   ],
   "source": [
    "print(tupla.count(a))\n",
    "\n",
    "d = 5\n",
    "\n",
    "print(a in tupla)\n",
    "\n",
    "if (a in tupla):\n",
    "    print(a,' se encuentra en',tupla)"
   ]
  },
  {
   "cell_type": "code",
   "execution_count": 16,
   "metadata": {},
   "outputs": [
    {
     "name": "stdout",
     "output_type": "stream",
     "text": [
      "El número 1 está más de una vez\n"
     ]
    }
   ],
   "source": [
    "tupla = 2,1,4,2,6,4,1,2,3,1,5,6\n",
    "\n",
    "a = input()\n",
    "b = int(a)\n",
    "\n",
    "if (tupla.count(b) > 1):\n",
    "    print('El número',a,'está más de una vez')\n",
    "elif(tupla.count(b) > 0):\n",
    "    print('El número',a,'está en la tupla, pero no se repite')\n",
    "else:\n",
    "    print('EL número',a,'no está en la lista')"
   ]
  },
  {
   "cell_type": "code",
   "execution_count": 17,
   "metadata": {},
   "outputs": [
    {
     "data": {
      "text/plain": [
       "12"
      ]
     },
     "execution_count": 17,
     "metadata": {},
     "output_type": "execute_result"
    }
   ],
   "source": [
    "len(tupla)"
   ]
  },
  {
   "cell_type": "code",
   "execution_count": 24,
   "metadata": {},
   "outputs": [
    {
     "name": "stdout",
     "output_type": "stream",
     "text": [
      "[2, 1, 4, 2, 6, 4, 1, 2, 3, 1, 5, 6]\n",
      "12\n",
      "[1, 1, 1, 2, 2, 2, 3, 4, 4, 5, 6, 6]\n",
      "(2, 4, 5, 7, 8, 12, 74, 456, 910)\n"
     ]
    }
   ],
   "source": [
    "lista_a = list(tupla)\n",
    "\n",
    "print(lista_a)\n",
    "print(len(lista_a))\n",
    "\n",
    "lista = [2,5,4,7,8,910,12,456,74]\n",
    "lista.sort()\n",
    "tupla_b = tuple(lista)\n",
    "\n",
    "lista_a.sort()\n",
    "print(lista_a)\n",
    "print(tupla_b)"
   ]
  }
 ],
 "metadata": {
  "kernelspec": {
   "display_name": "Python 3",
   "language": "python",
   "name": "python3"
  },
  "language_info": {
   "codemirror_mode": {
    "name": "ipython",
    "version": 3
   },
   "file_extension": ".py",
   "mimetype": "text/x-python",
   "name": "python",
   "nbconvert_exporter": "python",
   "pygments_lexer": "ipython3",
   "version": "3.11.3"
  },
  "orig_nbformat": 4
 },
 "nbformat": 4,
 "nbformat_minor": 2
}
