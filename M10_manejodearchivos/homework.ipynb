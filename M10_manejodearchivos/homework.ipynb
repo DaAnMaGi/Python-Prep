{
 "cells": [
  {
   "attachments": {},
   "cell_type": "markdown",
   "metadata": {},
   "source": [
    "3) Crear un archivo a partir de los datos presentes en el diccionario provisto. El cual debe contener en la primera fila el nombre de las claves y luego cada línea los elementos i-ésimos de las listas de valores contiguos y separados por coma ','. Este archivo debe llamarse clase09_ej3.csv\n",
    "\n",
    "montañas = {'nombre':[  'Everest','K2','Kanchenjunga','Lhotse','Makalu',\n",
    "                        'Cho Oyu','Dhaulagiri','Manaslu','Nanga Parbat','Annapurna I'],\n",
    "            'orden':[1,2,3,4,5,6,7,8,9,10],\n",
    "            'cordillera':['Himalaya','Karakórum','Himalaya','Himalaya','Himalaya'\n",
    "                        ,'Himalaya','Himalaya','Himalaya','Karakórum','Himalaya'],\n",
    "            'pais': ['Nepal','Pakistán','Nepal','Nepal','Nepal','Nepal','Nepal','Nepal',\n",
    "                    'Pakistán','Nepal'],\n",
    "            'altura':[8849,8611,8586,8516,8485,8188,8167,8163,8125,8091]}"
   ]
  },
  {
   "cell_type": "code",
   "execution_count": 5,
   "metadata": {},
   "outputs": [
    {
     "name": "stdout",
     "output_type": "stream",
     "text": [
      "c:\\Users\\dmon2\\OneDrive\\Desktop\\Python-Prep\\M10_manejodearchivos\n",
      "nombre,orden,cordillera,pais,altura\n",
      "\n",
      "Everest,1,Himalaya,Nepal,8849\n",
      "\n",
      "K2,2,KarakÃ³rum,PakistÃ¡n,8611\n",
      "\n",
      "Kanchenjunga,3,Himalaya,Nepal,8586\n",
      "\n",
      "Lhotse,4,Himalaya,Nepal,8516\n",
      "\n",
      "Makalu,5,Himalaya,Nepal,8485\n",
      "\n",
      "Cho Oyu,6,Himalaya,Nepal,8188\n",
      "\n",
      "Dhaulagiri,7,Himalaya,Nepal,8167\n",
      "\n",
      "Manaslu,8,Himalaya,Nepal,8163\n",
      "\n",
      "Nanga Parbat,9,KarakÃ³rum,PakistÃ¡n,8125\n",
      "\n",
      "Annapurna,10,Himalaya,Nepal,8091\n"
     ]
    }
   ],
   "source": [
    "import os \n",
    "print(os.getcwd())\n",
    "\n",
    "documento = open(\"C:/Users/dmon2/OneDrive/Desktop/Python-Prep/M10_manejodearchivos/clase09_ej3.csv\",\"r\")\n",
    "\n",
    "for linea in documento:\n",
    "    print(linea)\n",
    "\n",
    "documento.close()"
   ]
  },
  {
   "attachments": {},
   "cell_type": "markdown",
   "metadata": {},
   "source": [
    " 4) Mostrar el tamaño en MB del archivo generado en el punto 3"
   ]
  },
  {
   "cell_type": "code",
   "execution_count": 7,
   "metadata": {},
   "outputs": [
    {
     "name": "stdout",
     "output_type": "stream",
     "text": [
      "c:\\Users\\dmon2\\OneDrive\\Desktop\\Python-Prep\\M10_manejodearchivos\n"
     ]
    },
    {
     "data": {
      "text/plain": [
       "366"
      ]
     },
     "execution_count": 7,
     "metadata": {},
     "output_type": "execute_result"
    }
   ],
   "source": [
    "import os\n",
    "print(os.getcwd())\n",
    "os.path.getsize(\"C:/Users/dmon2/OneDrive/Desktop/Python-Prep/M10_manejodearchivos/clase09_ej3.csv\")"
   ]
  },
  {
   "attachments": {},
   "cell_type": "markdown",
   "metadata": {},
   "source": [
    "5) Crear una carpeta llamada clase09_montañas_altas"
   ]
  },
  {
   "cell_type": "code",
   "execution_count": 8,
   "metadata": {},
   "outputs": [],
   "source": [
    "import os\n",
    "os.makedirs(\"clase09_montañas_altas_solucion\")"
   ]
  },
  {
   "attachments": {},
   "cell_type": "markdown",
   "metadata": {},
   "source": [
    "6) Copiar el archivo clase09_ej3.scv en la carpeta clase09_montañas_altas usando la sentencia **os.system**"
   ]
  },
  {
   "cell_type": "code",
   "execution_count": 10,
   "metadata": {},
   "outputs": [
    {
     "name": "stdout",
     "output_type": "stream",
     "text": [
      "Help on built-in function system in module nt:\n",
      "\n",
      "system(command)\n",
      "    Execute the command in a subshell.\n",
      "\n"
     ]
    }
   ],
   "source": [
    "import os\n",
    "help(os.system)"
   ]
  },
  {
   "cell_type": "code",
   "execution_count": 11,
   "metadata": {},
   "outputs": [
    {
     "data": {
      "text/plain": [
       "0"
      ]
     },
     "execution_count": 11,
     "metadata": {},
     "output_type": "execute_result"
    }
   ],
   "source": [
    "import os\n",
    "\n",
    "origen = \"C:/Users/dmon2/OneDrive/Desktop/Python-Prep/M10_manejodearchivos/clase09_ej3.csv\"\n",
    "destino = \"C:/Users/dmon2/OneDrive/Desktop/Python-Prep/M10_manejodearchivos/clase09_montañas_altas_solucion\"\n",
    "\n",
    "cmd = f'copy \"{origen}\" \"{destino}\"' \n",
    "\n",
    "os.system(cmd)\n"
   ]
  },
  {
   "attachments": {},
   "cell_type": "markdown",
   "metadata": {},
   "source": [
    "7) Listar el contenido de la carpeta clase09_montañas_altas"
   ]
  },
  {
   "cell_type": "code",
   "execution_count": 12,
   "metadata": {},
   "outputs": [
    {
     "data": {
      "text/plain": [
       "['clase09_ej3.csv']"
      ]
     },
     "execution_count": 12,
     "metadata": {},
     "output_type": "execute_result"
    }
   ],
   "source": [
    "import os\n",
    "\n",
    "os.listdir(\"C:/Users/dmon2/OneDrive/Desktop/Python-Prep/M10_manejodearchivos/clase09_montañas_altas_solucion\")"
   ]
  }
 ],
 "metadata": {
  "kernelspec": {
   "display_name": "Python 3",
   "language": "python",
   "name": "python3"
  },
  "language_info": {
   "codemirror_mode": {
    "name": "ipython",
    "version": 3
   },
   "file_extension": ".py",
   "mimetype": "text/x-python",
   "name": "python",
   "nbconvert_exporter": "python",
   "pygments_lexer": "ipython3",
   "version": "3.11.3"
  },
  "orig_nbformat": 4
 },
 "nbformat": 4,
 "nbformat_minor": 2
}
