{
 "cells": [
  {
   "attachments": {},
   "cell_type": "markdown",
   "metadata": {},
   "source": [
    "Funciones"
   ]
  },
  {
   "cell_type": "code",
   "execution_count": 2,
   "metadata": {},
   "outputs": [],
   "source": [
    "def calcular(base,altura):\n",
    "    area = base*altura\n",
    "    return area\n",
    "\n"
   ]
  },
  {
   "cell_type": "code",
   "execution_count": 3,
   "metadata": {},
   "outputs": [
    {
     "data": {
      "text/plain": [
       "20"
      ]
     },
     "execution_count": 3,
     "metadata": {},
     "output_type": "execute_result"
    }
   ],
   "source": [
    "calcular(4,5)"
   ]
  },
  {
   "cell_type": "code",
   "execution_count": 6,
   "metadata": {},
   "outputs": [
    {
     "name": "stdout",
     "output_type": "stream",
     "text": [
      "Hola, Jaime\n"
     ]
    }
   ],
   "source": [
    "def saludar (nombre,saludo=\"Hola\"):\n",
    "    print(saludo+\", \"+nombre)\n",
    "\n",
    "saludar(\"Jaime\")"
   ]
  },
  {
   "cell_type": "code",
   "execution_count": 7,
   "metadata": {},
   "outputs": [
    {
     "name": "stdout",
     "output_type": "stream",
     "text": [
      "Buenos días, Maria\n"
     ]
    }
   ],
   "source": [
    "saludar(\"Maria\",\"Buenos días\")"
   ]
  },
  {
   "cell_type": "code",
   "execution_count": 12,
   "metadata": {},
   "outputs": [],
   "source": [
    "def imprimir():\n",
    "    print(\"Hola mundo\")\n"
   ]
  },
  {
   "cell_type": "code",
   "execution_count": 13,
   "metadata": {},
   "outputs": [
    {
     "name": "stdout",
     "output_type": "stream",
     "text": [
      "Hola mundo\n"
     ]
    }
   ],
   "source": [
    "imprimir()"
   ]
  },
  {
   "cell_type": "code",
   "execution_count": 14,
   "metadata": {},
   "outputs": [],
   "source": [
    "def sumar (sumando1,sumando2):\n",
    "    resultado = sumando1+sumando2\n",
    "    return resultado"
   ]
  },
  {
   "cell_type": "code",
   "execution_count": 15,
   "metadata": {},
   "outputs": [
    {
     "data": {
      "text/plain": [
       "18"
      ]
     },
     "execution_count": 15,
     "metadata": {},
     "output_type": "execute_result"
    }
   ],
   "source": [
    "sumar(8,10)"
   ]
  },
  {
   "cell_type": "code",
   "execution_count": 16,
   "metadata": {},
   "outputs": [],
   "source": [
    "def dividir(dividendo,divisor):\n",
    "    cociente = dividendo/divisor\n",
    "    resto = dividendo%divisor\n",
    "    return cociente,resto"
   ]
  },
  {
   "cell_type": "code",
   "execution_count": 17,
   "metadata": {},
   "outputs": [
    {
     "data": {
      "text/plain": [
       "(12.0, 0)"
      ]
     },
     "execution_count": 17,
     "metadata": {},
     "output_type": "execute_result"
    }
   ],
   "source": [
    "dividir(60,5)"
   ]
  },
  {
   "cell_type": "code",
   "execution_count": 18,
   "metadata": {},
   "outputs": [
    {
     "name": "stdout",
     "output_type": "stream",
     "text": [
      "La edad es: 30\n"
     ]
    }
   ],
   "source": [
    "def obtener_edad():\n",
    "    return 30\n",
    "\n",
    "edad = obtener_edad()\n",
    "\n",
    "print(\"La edad es:\",edad)"
   ]
  },
  {
   "cell_type": "code",
   "execution_count": 19,
   "metadata": {},
   "outputs": [],
   "source": [
    "def ordenar (num1=0,num2=0):\n",
    "    if (num1>num2):\n",
    "        return num2,num1\n",
    "    else:\n",
    "        return num1,num2"
   ]
  },
  {
   "cell_type": "code",
   "execution_count": 20,
   "metadata": {},
   "outputs": [
    {
     "data": {
      "text/plain": [
       "(2, 5)"
      ]
     },
     "execution_count": 20,
     "metadata": {},
     "output_type": "execute_result"
    }
   ],
   "source": [
    "ordenar(5,2)"
   ]
  },
  {
   "cell_type": "code",
   "execution_count": 21,
   "metadata": {},
   "outputs": [
    {
     "data": {
      "text/plain": [
       "15.0"
      ]
     },
     "execution_count": 21,
     "metadata": {},
     "output_type": "execute_result"
    }
   ],
   "source": [
    "def dividir(dividendo,divisor=1):\n",
    "    if divisor == 0:\n",
    "        print(\"Estos números no se pueden dividir\")\n",
    "    else:\n",
    "        resultado = dividendo/divisor\n",
    "        return resultado\n",
    "    \n",
    "dividir(90,6)"
   ]
  },
  {
   "attachments": {},
   "cell_type": "markdown",
   "metadata": {},
   "source": [
    "A continuación funciones recursivas"
   ]
  },
  {
   "cell_type": "code",
   "execution_count": 22,
   "metadata": {},
   "outputs": [],
   "source": [
    "def factorial(numero):\n",
    "    if numero > 1:\n",
    "        numero = numero*factorial(numero-1)\n",
    "    return numero"
   ]
  },
  {
   "cell_type": "code",
   "execution_count": 23,
   "metadata": {},
   "outputs": [
    {
     "data": {
      "text/plain": [
       "120"
      ]
     },
     "execution_count": 23,
     "metadata": {},
     "output_type": "execute_result"
    }
   ],
   "source": [
    "factorial(5)"
   ]
  },
  {
   "cell_type": "code",
   "execution_count": 24,
   "metadata": {},
   "outputs": [],
   "source": [
    "def factorial(numero):\n",
    "    '''Calcula el factorial de un número\n",
    "    '''\n",
    "    if numero > 1:\n",
    "        numero = numero*factorial(numero-1)\n",
    "    return numero"
   ]
  },
  {
   "cell_type": "code",
   "execution_count": 25,
   "metadata": {},
   "outputs": [
    {
     "name": "stdout",
     "output_type": "stream",
     "text": [
      "Help on function factorial in module __main__:\n",
      "\n",
      "factorial(numero)\n",
      "    Calcula el factorial de un número\n",
      "\n"
     ]
    }
   ],
   "source": [
    "help (factorial)"
   ]
  },
  {
   "attachments": {},
   "cell_type": "markdown",
   "metadata": {},
   "source": [
    "Paso por valor y por referencia."
   ]
  },
  {
   "cell_type": "code",
   "execution_count": 26,
   "metadata": {},
   "outputs": [],
   "source": [
    "x = 10 \n",
    "\n",
    "def funcion(entrada):\n",
    "    entrada = 0"
   ]
  },
  {
   "cell_type": "code",
   "execution_count": 27,
   "metadata": {},
   "outputs": [
    {
     "name": "stdout",
     "output_type": "stream",
     "text": [
      "10\n"
     ]
    }
   ],
   "source": [
    "funcion(x)\n",
    "\n",
    "print(x)"
   ]
  },
  {
   "cell_type": "code",
   "execution_count": 28,
   "metadata": {},
   "outputs": [
    {
     "name": "stdout",
     "output_type": "stream",
     "text": [
      "[10, 20, 30, 40]\n"
     ]
    }
   ],
   "source": [
    "x = [10,20,30]\n",
    "\n",
    "def funcion (entrada):\n",
    "    entrada.append(40) #Este código es de tipo de paso por referecia. por lo que afecta a la variable original (x)\n",
    "\n",
    "funcion(x)\n",
    "print(x)"
   ]
  },
  {
   "cell_type": "code",
   "execution_count": 29,
   "metadata": {},
   "outputs": [
    {
     "name": "stdout",
     "output_type": "stream",
     "text": [
      "[10, 20, 30]\n"
     ]
    }
   ],
   "source": [
    "x = [10,20,30]\n",
    "\n",
    "def funcion (entrada):\n",
    "    entrada = [] #Esta modificación no genera un cambio en la variable original. Sin embargo. ¿Cómo podemos saber si estamos trabajando con un pasaje por valor o por referencia?\n",
    "\n",
    "funcion(x)\n",
    "print(x)"
   ]
  },
  {
   "cell_type": "code",
   "execution_count": 30,
   "metadata": {},
   "outputs": [
    {
     "name": "stdout",
     "output_type": "stream",
     "text": [
      "140715262403656\n",
      "140715262403336\n"
     ]
    }
   ],
   "source": [
    "# Revisando el ID de la variable x\n",
    "\n",
    "x = 10\n",
    "print(id(x)) #Se genera un ID diferente para esta variable. En este caso, la variable da un id de 140715262403656\n",
    "\n",
    "def funcion(entrada):\n",
    "    entrada = 0\n",
    "    print(id(entrada)) #El ID que se es utilizada para la variable \"entrada\" no es el mismo que el de la variable x.  la variable da un id de 140715262403336\n",
    "\n",
    "funcion(x)"
   ]
  },
  {
   "cell_type": "code",
   "execution_count": 31,
   "metadata": {},
   "outputs": [
    {
     "name": "stdout",
     "output_type": "stream",
     "text": [
      "2232352971712\n"
     ]
    }
   ],
   "source": [
    "x = [10,20,30]\n",
    "\n",
    "print(id(x))"
   ]
  },
  {
   "cell_type": "code",
   "execution_count": 32,
   "metadata": {},
   "outputs": [
    {
     "name": "stdout",
     "output_type": "stream",
     "text": [
      "2232352971712\n"
     ]
    }
   ],
   "source": [
    "def funcion(entrada):\n",
    "    entrada.append(40) # Los datos de tipo compuesto como listas o diccionarios (recordar que los tuplas no se pueden modificar) se pasan por el pasaje de referencia, lo que los modifica.\n",
    "    print(id(entrada))\n",
    "\n",
    "funcion(x)"
   ]
  },
  {
   "cell_type": "code",
   "execution_count": 33,
   "metadata": {},
   "outputs": [
    {
     "name": "stdout",
     "output_type": "stream",
     "text": [
      "1\n",
      "5\n"
     ]
    }
   ],
   "source": [
    "# Podemos usar el método copy() para no trabajar sobre la variable original y evitar que se vea modificada.\n",
    "\n",
    "x = 1\n",
    "y = x #Se crea una copia de la variable x dentro de la variable y, de manera que no se modifica la primera.\n",
    "y = 5\n",
    "\n",
    "print(x)\n",
    "print(y)"
   ]
  },
  {
   "cell_type": "code",
   "execution_count": 35,
   "metadata": {},
   "outputs": [
    {
     "name": "stdout",
     "output_type": "stream",
     "text": [
      "[1, 2, 3]\n",
      "[1, 2, 3]\n",
      "2232352990336\n",
      "2232352990336\n"
     ]
    }
   ],
   "source": [
    "x = [1,2]\n",
    "y = x\n",
    "y.append(3)\n",
    "\n",
    "print (x)\n",
    "print(y)\n",
    "\n",
    "# Al revisar los ID de las dos variables se observa que son las mismas. Están referenciando al mismo espacio de memoria.\n",
    "\n",
    "print(id(x))\n",
    "print(id(y))"
   ]
  },
  {
   "cell_type": "code",
   "execution_count": 36,
   "metadata": {},
   "outputs": [
    {
     "name": "stdout",
     "output_type": "stream",
     "text": [
      "[1, 2]\n",
      "[1, 2, 4]\n",
      "2232352995392\n",
      "2232353022912\n"
     ]
    }
   ],
   "source": [
    "x = [1,2]\n",
    "y = x.copy() # Se utiliza el método copy para crear una copia de la variable x.\n",
    "y.append(4)\n",
    "\n",
    "print(x)\n",
    "print(y) # Se observa que la variable y obtiene un resultado diferente al de la variable x, ya que se ha generado una nueva referencia.\n",
    "\n",
    "print(id(x))\n",
    "print(id(y)) #Los dos referencias son distintas."
   ]
  },
  {
   "attachments": {},
   "cell_type": "markdown",
   "metadata": {},
   "source": [
    "Funciones lambda"
   ]
  },
  {
   "cell_type": "code",
   "execution_count": 37,
   "metadata": {},
   "outputs": [],
   "source": [
    "lambda_producto = lambda x, y: x*y"
   ]
  },
  {
   "cell_type": "code",
   "execution_count": 38,
   "metadata": {},
   "outputs": [
    {
     "data": {
      "text/plain": [
       "12"
      ]
     },
     "execution_count": 38,
     "metadata": {},
     "output_type": "execute_result"
    }
   ],
   "source": [
    "lambda_producto(3,4)"
   ]
  }
 ],
 "metadata": {
  "kernelspec": {
   "display_name": "Python 3",
   "language": "python",
   "name": "python3"
  },
  "language_info": {
   "codemirror_mode": {
    "name": "ipython",
    "version": 3
   },
   "file_extension": ".py",
   "mimetype": "text/x-python",
   "name": "python",
   "nbconvert_exporter": "python",
   "pygments_lexer": "ipython3",
   "version": "3.11.3"
  },
  "orig_nbformat": 4
 },
 "nbformat": 4,
 "nbformat_minor": 2
}
