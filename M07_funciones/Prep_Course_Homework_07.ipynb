{
 "cells": [
  {
   "attachments": {},
   "cell_type": "markdown",
   "metadata": {},
   "source": [
    "## Funciones"
   ]
  },
  {
   "attachments": {},
   "cell_type": "markdown",
   "metadata": {},
   "source": [
    "1) Crear una función que reciba un número como parámetro y devuelva True si es primo y False si no lo es"
   ]
  },
  {
   "cell_type": "code",
   "execution_count": 5,
   "metadata": {},
   "outputs": [
    {
     "data": {
      "text/plain": [
       "True"
      ]
     },
     "execution_count": 5,
     "metadata": {},
     "output_type": "execute_result"
    }
   ],
   "source": [
    "def es_primo(numero):\n",
    "    for i in range(2,numero):\n",
    "        if numero%i == 0:\n",
    "            primo = False\n",
    "            break\n",
    "        else: \n",
    "            primo = True\n",
    "        return primo\n",
    "\n",
    "es_primo(251)"
   ]
  },
  {
   "attachments": {},
   "cell_type": "markdown",
   "metadata": {},
   "source": [
    "2) Utilizando la función del punto 1, realizar otra función que reciba de parámetro una lista de números y devuelva sólo aquellos que son primos en otra lista"
   ]
  },
  {
   "cell_type": "code",
   "execution_count": 14,
   "metadata": {},
   "outputs": [
    {
     "name": "stdout",
     "output_type": "stream",
     "text": [
      "[1, 2, 3, 5, 23, 47, 59, 103, 107, 199, 251]\n"
     ]
    }
   ],
   "source": [
    "numeros = [1,2,3,4,5,6,20,23,56,47,84,59,102,103,104,106,107,199,200,251]\n",
    "\n",
    "def encontrar_primos(lista):\n",
    "    primos = []\n",
    "    if (1) in lista:\n",
    "        primos.append((1))\n",
    "    if (2) in lista:\n",
    "        primos.append(2)\n",
    "    for i,e in enumerate(lista):\n",
    "        if es_primo(e) == True:\n",
    "            primos.append(e)\n",
    "    print(primos)\n",
    "\n",
    "encontrar_primos(numeros)"
   ]
  },
  {
   "cell_type": "code",
   "execution_count": 7,
   "metadata": {},
   "outputs": [
    {
     "name": "stdout",
     "output_type": "stream",
     "text": [
      "[1, 2, 3, 5, 23, 47, 59, 103, 107, 199, 251]\n"
     ]
    }
   ],
   "source": [
    "numeros = [1,2,3,4,5,6,20,23,56,47,84,59,102,103,104,106,107,199,200,251]\n",
    "\n",
    "primos = [1,2]\n",
    "\n",
    "agregar_primos = [primos.append(e) for i,e in enumerate(numeros) if es_primo(e) == True]\n",
    "\n",
    "print(primos)"
   ]
  },
  {
   "attachments": {},
   "cell_type": "markdown",
   "metadata": {},
   "source": [
    "3) Crear una función que al recibir una lista de números, devuelva el que más se repite y cuántas veces lo hace. Si hay más de un \"más repetido\", que devuelva cualquiera"
   ]
  },
  {
   "cell_type": "code",
   "execution_count": 8,
   "metadata": {},
   "outputs": [
    {
     "name": "stdout",
     "output_type": "stream",
     "text": [
      "El número 1 es el que más se repite, con 5 repeticiones\n"
     ]
    }
   ],
   "source": [
    "def repetido(lista):\n",
    "    unicos = []\n",
    "    repetidos = []\n",
    "    if lista == 0:\n",
    "        return None\n",
    "    for e in lista:\n",
    "        if e in unicos:\n",
    "            i = unicos.index(e)\n",
    "            repetidos[i] +=1\n",
    "        else:\n",
    "            unicos.append(e)\n",
    "            repetidos.append(1)\n",
    "    moda = unicos[0]\n",
    "    maximo = repetidos[0]\n",
    "    for i,e in enumerate(unicos):\n",
    "        if repetidos[i] > maximo:\n",
    "            moda = unicos[i]\n",
    "            maximo = repetidos[i]\n",
    "    return print(f\"El número {moda} es el que más se repite, con {maximo} repeticiones\")\n",
    "        \n",
    "# print(f\"El número {numero} es el que más se repite, con {lista.count(numero)} veces\")        \n",
    "\n",
    "numeros = [1,2,3,1,3,4,5,1,6,1,7,8,9,1,3,3,2]\n",
    "\n",
    "repetido(numeros)"
   ]
  },
  {
   "attachments": {},
   "cell_type": "markdown",
   "metadata": {},
   "source": [
    "4) A la función del punto 3, agregar un parámetro más, que permita elegir si se requiere el menor o el mayor de los mas repetidos."
   ]
  },
  {
   "cell_type": "code",
   "execution_count": 9,
   "metadata": {},
   "outputs": [],
   "source": [
    "def repetido2(lista,datomenorrequerido=True):\n",
    "    unicos = [] # Crea una lista donde se guarda una sola vez todos los elementos de la lista dada.\n",
    "    repetidos = [] # Crea una lista donde se guarda el total de repeticiones (conteo) de los elementos de la lista dada.\n",
    "    if len(lista) == 0:\n",
    "        return None # Se asegura de que la lista no esté vacía.\n",
    "    for e in lista:\n",
    "        if e in unicos: # Revisa si el elemento de la lista dada ya se encuentra en la lista de elementos únicos.\n",
    "            i = unicos.index(e) #Si el dato se encuentra en la lista de unicos, obtiene su índice para poder obtener su orden en la lista de datos repetidos.\n",
    "            repetidos[i] +=1 #Suma un entero al conteo del elemento que se repite.\n",
    "        else:\n",
    "            unicos.append(e) # Si el elemento no se encuentra en la lista de elementos únicos, lo agrega al final de esta.\n",
    "            repetidos.append(1) # Se agrega un entero (una vez) al conteo del elemento nuevo. Es de notar que el total del conteo (veces) se encuentra en el mismo orden que el elemento en la lista unicos, de esta manera, se puede traer el índice del segundo (elemento unico) para saber el total del primero (conteo). \n",
    "    moda = unicos[0] # Se crea la variable moda para identificar al elemento que más se repite. Se coloca el primer valor de la lista únicos, sobreentiendo que será el valor que más se repite.\n",
    "    maximo = repetidos[0] # se crea la variable máximo para identificar el conteo del elemento con más repiticiones. Se coloca el primer valor de la lista repetidos, sobreentendiendo que será el valor más alto.\n",
    "    menor = repetidos[0] #se crea la variable menor para identificar el conteno del elemento con menos repeticiones. Se coloca el primer valor de la list repetidos, sobreentendiendo que será el valor más pequeño.\n",
    "    if datomenorrequerido == True: #si se solicita obtener el valor que se repite menos, de los que se repite.\n",
    "        for i,e in enumerate(unicos):\n",
    "            if repetidos[i] > 1: # Se asegura que no se obtiene un valor que no se repita.\n",
    "                if repetidos[i] < menor: # Se revisa que el valor repetido sea menor que el identificado en la variable menor. En caso de que así sea, se reemplaza el valor de menor con el del dato identificado.\n",
    "                    moda = unicos[i]\n",
    "                    menor = repetidos[i]\n",
    "        return print(f\"El dato {moda} es, de los datos que se repiten, el que menos lo hace, con {menor} repeticiones\")\n",
    "    else:\n",
    "        for i,e in enumerate(unicos):\n",
    "            if repetidos[i] > maximo: # Se revisa que el valor repetido sea mayor que el identificado en la variable maximo. En caso de que así sea, se reemplaza el valor de maximo con el del dato identificado.\n",
    "                moda = unicos[i]\n",
    "                maximo = repetidos[i]\n",
    "        return print(f\"El número {moda} es el que más se repite, con {maximo} repeticiones\")\n",
    "    "
   ]
  },
  {
   "cell_type": "code",
   "execution_count": 10,
   "metadata": {},
   "outputs": [],
   "source": [
    "numeros2 = [1,2,3,1,3,4,5,1,6,1,7,8,9,1,3,3,2,6,2,2,2,1,6,4]"
   ]
  },
  {
   "cell_type": "code",
   "execution_count": 11,
   "metadata": {},
   "outputs": [
    {
     "name": "stdout",
     "output_type": "stream",
     "text": [
      "El número 1 es el que más se repite, con 6 repeticiones\n"
     ]
    }
   ],
   "source": [
    "repetido2(numeros2,False)"
   ]
  },
  {
   "cell_type": "code",
   "execution_count": 12,
   "metadata": {},
   "outputs": [
    {
     "name": "stdout",
     "output_type": "stream",
     "text": [
      "El dato 4 es, de los datos que se repiten, el que menos lo hace, con 2 repeticiones\n"
     ]
    }
   ],
   "source": [
    "repetido2(numeros2,True)"
   ]
  },
  {
   "attachments": {},
   "cell_type": "markdown",
   "metadata": {},
   "source": [
    "5) Crear una función que convierta entre grados Celsius, Farenheit y Kelvin<br>\n",
    "Fórmula 1\t: (°C × 9/5) + 32 = °F<br>\n",
    "Fórmula 2\t: °C + 273.15 = °K<br>\n",
    "Debe recibir 3 parámetros: el valor, la medida de orígen y la medida de destino\n"
   ]
  },
  {
   "cell_type": "code",
   "execution_count": 66,
   "metadata": {},
   "outputs": [],
   "source": [
    "# Fórmula 1\t: (°C × 9/5) + 32 = °F\n",
    "# Fórmula 2\t: °C + 273.15 = °K\n",
    "def conversion(valor,origen,destino):\n",
    "    if destino == \"C\":\n",
    "        if origen == \"K\":\n",
    "            r = valor - 273.15\n",
    "            return r\n",
    "        elif origen == \"F\":\n",
    "            r = (valor - 32) * 5/9\n",
    "            return r\n",
    "        elif origen == \"C\":\n",
    "            r = valor\n",
    "            return r\n",
    "    elif destino == \"K\":\n",
    "        if origen == \"C\":\n",
    "            r = valor + 273.15\n",
    "            return r\n",
    "        elif origen == \"F\":\n",
    "            r = conversion(valor,\"F\",\"C\") + 273.15\n",
    "            return r\n",
    "        elif origen == \"K\":\n",
    "            r = valor\n",
    "            return r\n",
    "    elif destino == \"F\":\n",
    "        if origen == \"C\":\n",
    "            r = (valor * 9/5) + 32\n",
    "            return r\n",
    "        elif origen == \"K\":\n",
    "            r = (conversion(valor,\"K\",\"C\")* 9/5) + 32\n",
    "            return r\n",
    "        elif origen == \"F\":\n",
    "            r = valor\n",
    "            return r\n",
    "    else: print(\"No se puede convertir\")"
   ]
  },
  {
   "cell_type": "code",
   "execution_count": 59,
   "metadata": {},
   "outputs": [
    {
     "data": {
      "text/plain": [
       "26.850000000000023"
      ]
     },
     "execution_count": 59,
     "metadata": {},
     "output_type": "execute_result"
    }
   ],
   "source": [
    "# Convertir de K a C\n",
    "\n",
    "conversion(300,\"K\",\"C\")"
   ]
  },
  {
   "cell_type": "code",
   "execution_count": 60,
   "metadata": {},
   "outputs": [
    {
     "data": {
      "text/plain": [
       "80.33000000000004"
      ]
     },
     "execution_count": 60,
     "metadata": {},
     "output_type": "execute_result"
    }
   ],
   "source": [
    "# Convertir de K a F\n",
    "conversion(300,\"K\",\"F\")"
   ]
  },
  {
   "cell_type": "code",
   "execution_count": 62,
   "metadata": {},
   "outputs": [
    {
     "data": {
      "text/plain": [
       "75.2"
      ]
     },
     "execution_count": 62,
     "metadata": {},
     "output_type": "execute_result"
    }
   ],
   "source": [
    "# Cnvertir de C a K\n",
    "conversion(24,\"C\",\"F\")"
   ]
  },
  {
   "attachments": {},
   "cell_type": "markdown",
   "metadata": {},
   "source": [
    "6) Iterando una lista con los tres valores posibles de temperatura que recibe la función del punto 5, hacer un print para cada combinación de los mismos:"
   ]
  },
  {
   "cell_type": "code",
   "execution_count": 67,
   "metadata": {},
   "outputs": [
    {
     "name": "stdout",
     "output_type": "stream",
     "text": [
      "Para el valor 80 en C al pasarlo a C se obtiene 80 grados\n",
      "Para el valor 80 en C al pasarlo a F se obtiene 176.0 grados\n",
      "Para el valor 80 en C al pasarlo a K se obtiene 353.15 grados\n",
      "Para el valor 80 en F al pasarlo a C se obtiene 26.666666666666668 grados\n",
      "Para el valor 80 en F al pasarlo a F se obtiene 80 grados\n",
      "Para el valor 80 en F al pasarlo a K se obtiene 299.81666666666666 grados\n",
      "Para el valor 80 en K al pasarlo a C se obtiene -193.14999999999998 grados\n",
      "Para el valor 80 en K al pasarlo a F se obtiene -315.66999999999996 grados\n",
      "Para el valor 80 en K al pasarlo a K se obtiene 80 grados\n"
     ]
    }
   ],
   "source": [
    "grados = [\"C\",\"F\",\"K\"]\n",
    "\n",
    "valor = int(input())\n",
    "\n",
    "for i in range(0,3):\n",
    "    for j in range(0,3):\n",
    "        print(f\"Para el valor {valor} en {grados[i]} al pasarlo a {grados[j]} se obtiene {conversion(valor,grados[i],grados[j])} grados\")\n"
   ]
  },
  {
   "attachments": {},
   "cell_type": "markdown",
   "metadata": {},
   "source": [
    "7) Armar una función que devuelva el factorial de un número. Tener en cuenta que el usuario puede equivocarse y enviar de parámetro un número no entero o negativo"
   ]
  },
  {
   "cell_type": "code",
   "execution_count": 47,
   "metadata": {},
   "outputs": [],
   "source": [
    "def factorial (numero):\n",
    "    if numero < 0:\n",
    "        print(\"El número es negativo, no se puede factorizar\")\n",
    "    elif type(numero) == int:\n",
    "        if numero > 1: \n",
    "            numero = numero * factorial(numero-1)\n",
    "        return numero\n",
    "    else: print(\"El número no es un entero\")"
   ]
  },
  {
   "cell_type": "code",
   "execution_count": 48,
   "metadata": {},
   "outputs": [
    {
     "name": "stdout",
     "output_type": "stream",
     "text": [
      "El número es negativo, no se puede factorizar\n"
     ]
    }
   ],
   "source": [
    "factorial(-4)"
   ]
  },
  {
   "cell_type": "code",
   "execution_count": 49,
   "metadata": {},
   "outputs": [
    {
     "name": "stdout",
     "output_type": "stream",
     "text": [
      "El número no es un entero\n"
     ]
    }
   ],
   "source": [
    "factorial(4.6)"
   ]
  },
  {
   "cell_type": "code",
   "execution_count": 50,
   "metadata": {},
   "outputs": [
    {
     "data": {
      "text/plain": [
       "720"
      ]
     },
     "execution_count": 50,
     "metadata": {},
     "output_type": "execute_result"
    }
   ],
   "source": [
    "factorial(6)"
   ]
  },
  {
   "cell_type": "code",
   "execution_count": 51,
   "metadata": {},
   "outputs": [
    {
     "data": {
      "text/plain": [
       "3628800"
      ]
     },
     "execution_count": 51,
     "metadata": {},
     "output_type": "execute_result"
    }
   ],
   "source": [
    "factorial(10)"
   ]
  },
  {
   "cell_type": "code",
   "execution_count": 52,
   "metadata": {},
   "outputs": [
    {
     "data": {
      "text/plain": [
       "362880"
      ]
     },
     "execution_count": 52,
     "metadata": {},
     "output_type": "execute_result"
    }
   ],
   "source": [
    "factorial(9)"
   ]
  }
 ],
 "metadata": {
  "interpreter": {
   "hash": "c85384e4cb51c8b72350f3a8712cc8351fdc3955e32a27f9b60c6242ab125f01"
  },
  "kernelspec": {
   "display_name": "Python 3 (ipykernel)",
   "language": "python",
   "name": "python3"
  },
  "language_info": {
   "codemirror_mode": {
    "name": "ipython",
    "version": 3
   },
   "file_extension": ".py",
   "mimetype": "text/x-python",
   "name": "python",
   "nbconvert_exporter": "python",
   "pygments_lexer": "ipython3",
   "version": "3.11.3"
  }
 },
 "nbformat": 4,
 "nbformat_minor": 4
}
