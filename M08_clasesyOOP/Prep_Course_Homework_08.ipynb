{
 "cells": [
  {
   "attachments": {},
   "cell_type": "markdown",
   "metadata": {},
   "source": [
    "## Clases y Programación Orientada a Objetos"
   ]
  },
  {
   "attachments": {},
   "cell_type": "markdown",
   "metadata": {},
   "source": [
    "1) Crear la clase vehículo que contenga los atributos:<br>\n",
    "Color<br>\n",
    "Si es moto, auto, camioneta ó camión<br>\n",
    "Cilindrada del motor"
   ]
  },
  {
   "cell_type": "code",
   "execution_count": 1,
   "metadata": {},
   "outputs": [],
   "source": [
    "class Vehículo:\n",
    "    def __init__(self,color,tipo,cilindrada):\n",
    "        self.color = color\n",
    "        self.tipo = tipo\n",
    "        self.cilindrada = cilindrada"
   ]
  },
  {
   "attachments": {},
   "cell_type": "markdown",
   "metadata": {},
   "source": [
    "2) A la clase Vehiculo creada en el punto 1, agregar los siguientes métodos:<br>\n",
    "Acelerar<br>\n",
    "Frenar<br>\n",
    "Doblar<br>"
   ]
  },
  {
   "cell_type": "code",
   "execution_count": 2,
   "metadata": {},
   "outputs": [],
   "source": [
    "class Vehículo:\n",
    "    def __init__(self,color,tipo,cilindrada):\n",
    "        self.color = color\n",
    "        self.tipo = tipo\n",
    "        self.cilindrada = cilindrada\n",
    "        self.velocidad = 0\n",
    "        self.direccion = 0\n",
    "\n",
    "    def acelerar(self,vel):\n",
    "        self.velocidad += vel\n",
    "        \n",
    "    def frenar(self,vel):\n",
    "        self.velocidad -= vel\n",
    "    \n",
    "    def doblar(self,grados):\n",
    "        self.direccion += grados"
   ]
  },
  {
   "attachments": {},
   "cell_type": "markdown",
   "metadata": {},
   "source": [
    "3) Instanciar 3 objetos de la clase vehículo y ejecutar sus métodos, probar luego el resultado"
   ]
  },
  {
   "cell_type": "code",
   "execution_count": 3,
   "metadata": {},
   "outputs": [],
   "source": [
    "moto = Vehículo(\"amarillo\",\"Moto\",30)\n",
    "auto = Vehículo(\"Rojo\",\"auto\",40)\n",
    "camión = Vehículo(\"azul\",\"camión\",45)"
   ]
  },
  {
   "cell_type": "code",
   "execution_count": 4,
   "metadata": {},
   "outputs": [],
   "source": [
    "moto.acelerar(60)\n",
    "moto.frenar(50)\n",
    "moto.doblar(30)\n",
    "\n",
    "auto.acelerar(60)\n",
    "auto.frenar(40)\n",
    "auto.doblar(45)\n",
    "\n",
    "camión.acelerar(70)\n",
    "camión.frenar(40)\n",
    "camión.doblar(25)"
   ]
  },
  {
   "attachments": {},
   "cell_type": "markdown",
   "metadata": {},
   "source": [
    "4) Agregar a la clase Vehiculo, un método que muestre su estado, es decir, a que velocidad se encuentra y su dirección. Y otro método que muestre color, tipo y cilindrada"
   ]
  },
  {
   "cell_type": "code",
   "execution_count": 5,
   "metadata": {},
   "outputs": [],
   "source": [
    "class Vehículo:\n",
    "    def __init__(self,color,tipo,cilindrada):\n",
    "        self.color = color\n",
    "        self.tipo = tipo\n",
    "        self.cilindrada = cilindrada\n",
    "        self.velocidad = 0\n",
    "        self.direccion = 0\n",
    "\n",
    "    def acelerar(self,vel):\n",
    "        self.velocidad += vel\n",
    "        \n",
    "    def frenar(self,vel):\n",
    "        self.velocidad -= vel\n",
    "    \n",
    "    def doblar(self,grados):\n",
    "        self.direccion += grados\n",
    "\n",
    "    def presentar(self):\n",
    "        print(f\"Soy una {self.tipo} de color {self.color} con {self.cilindrada} cilindros\")\n",
    "    \n",
    "    def estado (self):\n",
    "        print(f\"Voy a {self.velocidad} kilómetros con una dirección de {self.direccion}\")"
   ]
  },
  {
   "cell_type": "code",
   "execution_count": 6,
   "metadata": {},
   "outputs": [],
   "source": [
    "moto = Vehículo(\"amarillo\",\"Moto\",30)\n",
    "auto = Vehículo(\"Rojo\",\"auto\",40)\n",
    "camión = Vehículo(\"azul\",\"camión\",45)\n",
    "\n",
    "moto.acelerar(60)\n",
    "moto.frenar(50)\n",
    "moto.doblar(30)\n",
    "\n",
    "auto.acelerar(60)\n",
    "auto.frenar(40)\n",
    "auto.doblar(45)\n",
    "\n",
    "camión.acelerar(70)\n",
    "camión.frenar(40)\n",
    "camión.doblar(25)"
   ]
  },
  {
   "cell_type": "code",
   "execution_count": 7,
   "metadata": {},
   "outputs": [
    {
     "name": "stdout",
     "output_type": "stream",
     "text": [
      "Soy una Moto de color amarillo con 30 cilindros\n",
      "Voy a 10 kilómetros con una dirección de 30\n",
      "Soy una auto de color Rojo con 40 cilindros\n",
      "Voy a 20 kilómetros con una dirección de 45\n",
      "Soy una camión de color azul con 45 cilindros\n",
      "Voy a 30 kilómetros con una dirección de 25\n"
     ]
    }
   ],
   "source": [
    "moto.presentar()\n",
    "moto.estado()\n",
    "\n",
    "auto.presentar()\n",
    "auto.estado()\n",
    "\n",
    "camión.presentar()\n",
    "camión.estado()"
   ]
  },
  {
   "attachments": {},
   "cell_type": "markdown",
   "metadata": {},
   "source": [
    "5) Crear una clase que permita utilizar las funciones creadas en la práctica del módulo 7<br>\n",
    "Verificar Primo<br>\n",
    "Valor modal<br>\n",
    "Conversión grados<br>\n",
    "Factorial<br>"
   ]
  },
  {
   "cell_type": "code",
   "execution_count": 8,
   "metadata": {},
   "outputs": [],
   "source": [
    "class Funciones7:\n",
    "    def __init__(self) -> None:\n",
    "        pass\n",
    "    \n",
    "    def es_primo(self,numero):\n",
    "        primo = True\n",
    "        for i in range(2,numero):\n",
    "            if numero%i == 0:\n",
    "                primo = False\n",
    "                break\n",
    "            return primo\n",
    "        \n",
    "    def modal(self,lista,datomenorrequerido=False):\n",
    "        unicos = [] \n",
    "        repetidos = []\n",
    "        if len(lista) == 0:\n",
    "            return None \n",
    "        for e in lista:\n",
    "            if e in unicos:\n",
    "                i = unicos.index(e) \n",
    "                repetidos[i] +=1 \n",
    "            else:\n",
    "                unicos.append(e) \n",
    "                repetidos.append(1)\n",
    "        moda = unicos[0]\n",
    "        maximo = repetidos[0] \n",
    "        menor = repetidos[0] \n",
    "        if datomenorrequerido == True: \n",
    "            for i,e in enumerate(unicos):\n",
    "                if repetidos[i] > 1:\n",
    "                    if repetidos[i] < menor: \n",
    "                        moda = unicos[i]\n",
    "                        menor = repetidos[i]\n",
    "            return print(f\"El dato {moda} es, de los datos que se repiten, el que menos lo hace, con {menor} repeticiones\")\n",
    "        else:\n",
    "            for i,e in enumerate(unicos):\n",
    "                if repetidos[i] > maximo:\n",
    "                    moda = unicos[i]\n",
    "                    maximo = repetidos[i]\n",
    "            return print(f\"El número {moda} es el que más se repite, con {maximo} repeticiones\")\n",
    "        \n",
    "    def conversion(self,valor,origen,destino):\n",
    "        if destino == \"C\":\n",
    "            if origen == \"K\":\n",
    "                r = valor - 273.15\n",
    "                return r\n",
    "            elif origen == \"F\":\n",
    "                r = (valor - 32) * 5/9\n",
    "                return r\n",
    "            elif origen == \"C\":\n",
    "                r = valor\n",
    "                return r\n",
    "        elif destino == \"K\":\n",
    "            if origen == \"C\":\n",
    "                r = valor + 273.15\n",
    "                return r\n",
    "            elif origen == \"F\":\n",
    "                r = self.conversion(valor,\"F\",\"C\") + 273.15\n",
    "                return r\n",
    "            elif origen == \"K\":\n",
    "                r = valor\n",
    "                return r\n",
    "        elif destino == \"F\":\n",
    "            if origen == \"C\":\n",
    "                r = (valor * 9/5) + 32\n",
    "                return r\n",
    "            elif origen == \"K\":\n",
    "                r = (self.conversion(valor,\"K\",\"C\")* 9/5) + 32\n",
    "                return r\n",
    "            elif origen == \"F\":\n",
    "                r = valor\n",
    "                return r\n",
    "        else: print(\"No se puede convertir\")\n",
    "\n",
    "    def factorial (self,numero):\n",
    "        if numero < 0:\n",
    "            print(\"El número es negativo, no se puede factorizar\")\n",
    "        elif type(numero) == int:\n",
    "            if numero > 1: \n",
    "                numero = numero * self.factorial(numero-1)\n",
    "            return numero\n",
    "        else: print(\"El número no es un entero\")\n",
    "    "
   ]
  },
  {
   "cell_type": "code",
   "execution_count": 9,
   "metadata": {},
   "outputs": [],
   "source": [
    "h = Funciones7()"
   ]
  },
  {
   "attachments": {},
   "cell_type": "markdown",
   "metadata": {},
   "source": [
    "6) Probar las funciones incorporadas en la clase del punto 5"
   ]
  },
  {
   "cell_type": "code",
   "execution_count": 10,
   "metadata": {},
   "outputs": [
    {
     "data": {
      "text/plain": [
       "True"
      ]
     },
     "execution_count": 10,
     "metadata": {},
     "output_type": "execute_result"
    }
   ],
   "source": [
    "h.es_primo(7)"
   ]
  },
  {
   "cell_type": "code",
   "execution_count": 11,
   "metadata": {},
   "outputs": [
    {
     "data": {
      "text/plain": [
       "120"
      ]
     },
     "execution_count": 11,
     "metadata": {},
     "output_type": "execute_result"
    }
   ],
   "source": [
    "h.factorial(5)"
   ]
  },
  {
   "cell_type": "code",
   "execution_count": 12,
   "metadata": {},
   "outputs": [
    {
     "data": {
      "text/plain": [
       "-299.46999999999997"
      ]
     },
     "execution_count": 12,
     "metadata": {},
     "output_type": "execute_result"
    }
   ],
   "source": [
    "h.conversion(89,\"K\",\"F\")"
   ]
  },
  {
   "cell_type": "code",
   "execution_count": 13,
   "metadata": {},
   "outputs": [
    {
     "name": "stdout",
     "output_type": "stream",
     "text": [
      "El dato 4 es, de los datos que se repiten, el que menos lo hace, con 2 repeticiones\n",
      "El número 5 es el que más se repite, con 3 repeticiones\n"
     ]
    }
   ],
   "source": [
    "lista = [5,4,1,5,5,3,4]\n",
    "\n",
    "h.modal(lista,True)\n",
    "h.modal(lista)"
   ]
  },
  {
   "attachments": {},
   "cell_type": "markdown",
   "metadata": {},
   "source": [
    "7) Es necesario que la clase creada en el punto 5 contenga una lista, sobre la cual se apliquen las funciones incorporadas"
   ]
  },
  {
   "cell_type": "code",
   "execution_count": 14,
   "metadata": {},
   "outputs": [],
   "source": [
    "class Funciones7:\n",
    "    def __init__(self,lista):\n",
    "        self.lista = lista\n",
    "    \n",
    "    def primos_lista(self):\n",
    "        primos = []\n",
    "        no_primos = []\n",
    "        if (1) in self.lista:\n",
    "            primos.append((1))\n",
    "        if (2) in self.lista:\n",
    "            primos.append(2)\n",
    "        for i,e in enumerate(self.lista):\n",
    "            if self.__es_primo(e) == True:\n",
    "                primos.append(e)\n",
    "            else: \n",
    "                no_primos.append(e)\n",
    "        return print(primos), print(no_primos)\n",
    "    \n",
    "    def factorial_lista(self):\n",
    "        for i in self.lista:\n",
    "            print(f\"el factorial de {i} es {self.__factorial(i)}\")\n",
    "    \n",
    "    def grados_lista(self,origen,destino):\n",
    "        for i in self.lista:\n",
    "             print(f\"Para el valor {i} en {origen} al pasarlo a {destino} se obtiene {self.__conversion(i,origen,destino)} grados\")\n",
    "\n",
    "    def __es_primo(self,numero):\n",
    "        primo = True\n",
    "        for i in range(2,numero):\n",
    "            if numero%i == 0:\n",
    "                primo = False\n",
    "                break\n",
    "            return primo\n",
    "        \n",
    "    def modal(self,datomenorrequerido=False):\n",
    "        unicos = [] \n",
    "        repetidos = []\n",
    "        if len(lista) == 0:\n",
    "            return None \n",
    "        for e in lista:\n",
    "            if e in unicos:\n",
    "                i = unicos.index(e) \n",
    "                repetidos[i] +=1 \n",
    "            else:\n",
    "                unicos.append(e) \n",
    "                repetidos.append(1)\n",
    "        moda = unicos[0]\n",
    "        maximo = repetidos[0] \n",
    "        menor = repetidos[0] \n",
    "        if datomenorrequerido == True: \n",
    "            for i,e in enumerate(unicos):\n",
    "                if repetidos[i] > 1:\n",
    "                    if repetidos[i] < menor: \n",
    "                        moda = unicos[i]\n",
    "                        menor = repetidos[i]\n",
    "            return print(f\"El dato {moda} es, de los datos que se repiten, el que menos lo hace, con {menor} repeticiones\")\n",
    "        else:\n",
    "            for i,e in enumerate(unicos):\n",
    "                if repetidos[i] > maximo:\n",
    "                    moda = unicos[i]\n",
    "                    maximo = repetidos[i]\n",
    "            return print(f\"El número {moda} es el que más se repite, con {maximo} repeticiones\")\n",
    "        \n",
    "    def __conversion(self,valor,origen,destino):\n",
    "        if destino == \"C\":\n",
    "            if origen == \"K\":\n",
    "                r = valor - 273.15\n",
    "                return r\n",
    "            elif origen == \"F\":\n",
    "                r = (valor - 32) * 5/9\n",
    "                return r\n",
    "            elif origen == \"C\":\n",
    "                r = valor\n",
    "                return r\n",
    "        elif destino == \"K\":\n",
    "            if origen == \"C\":\n",
    "                r = valor + 273.15\n",
    "                return r\n",
    "            elif origen == \"F\":\n",
    "                r = self.__conversion(valor,\"F\",\"C\") + 273.15\n",
    "                return r\n",
    "            elif origen == \"K\":\n",
    "                r = valor\n",
    "                return r\n",
    "        elif destino == \"F\":\n",
    "            if origen == \"C\":\n",
    "                r = (valor * 9/5) + 32\n",
    "                return r\n",
    "            elif origen == \"K\":\n",
    "                r = (self.__conversion(valor,\"K\",\"C\")* 9/5) + 32\n",
    "                return r\n",
    "            elif origen == \"F\":\n",
    "                r = valor\n",
    "                return r\n",
    "        else: print(\"No se puede convertir\")\n",
    "\n",
    "    def __factorial (self,numero):\n",
    "        if numero < 0:\n",
    "            print(\"El número es negativo, no se puede factorizar\")\n",
    "        elif type(numero) == int:\n",
    "            if numero > 1: \n",
    "                numero = numero * self.__factorial(numero-1)\n",
    "            return numero\n",
    "        else: print(\"El número no es un entero\")"
   ]
  },
  {
   "attachments": {},
   "cell_type": "markdown",
   "metadata": {},
   "source": [
    "8) Crear un archivo .py aparte y ubicar allí la clase generada en el punto anterior. Luego realizar la importación del módulo y probar alguna de sus funciones"
   ]
  },
  {
   "cell_type": "code",
   "execution_count": 15,
   "metadata": {},
   "outputs": [],
   "source": [
    "from familia_funciones import *\n",
    "\n",
    "lista = [5,4,1,5,5,3,4]\n"
   ]
  },
  {
   "cell_type": "code",
   "execution_count": 20,
   "metadata": {},
   "outputs": [
    {
     "ename": "AttributeError",
     "evalue": "module 'familia_funciones' has no attribute 'path'",
     "output_type": "error",
     "traceback": [
      "\u001b[1;31m---------------------------------------------------------------------------\u001b[0m",
      "\u001b[1;31mAttributeError\u001b[0m                            Traceback (most recent call last)",
      "Cell \u001b[1;32mIn[20], line 8\u001b[0m\n\u001b[0;32m      4\u001b[0m importlib\u001b[39m.\u001b[39mreload(familia_funciones)\n\u001b[0;32m      6\u001b[0m f \u001b[39m=\u001b[39m Funciones7(lista)\n\u001b[1;32m----> 8\u001b[0m \u001b[39mprint\u001b[39m(familia_funciones\u001b[39m.\u001b[39;49mpath)\n",
      "\u001b[1;31mAttributeError\u001b[0m: module 'familia_funciones' has no attribute 'path'"
     ]
    }
   ],
   "source": [
    "import familia_funciones\n",
    "import importlib\n",
    "\n",
    "importlib.reload(familia_funciones)\n",
    "\n",
    "f = Funciones7(lista)\n",
    "\n",
    "print(familia_funciones.path)"
   ]
  },
  {
   "cell_type": "code",
   "execution_count": 17,
   "metadata": {},
   "outputs": [
    {
     "name": "stdout",
     "output_type": "stream",
     "text": [
      "el factorial de 5 es 120\n",
      "el factorial de 4 es 24\n",
      "el factorial de 1 es 1\n",
      "el factorial de 5 es 120\n",
      "el factorial de 5 es 120\n",
      "el factorial de 3 es 6\n",
      "el factorial de 4 es 24\n"
     ]
    }
   ],
   "source": [
    "f.factorial_lista()"
   ]
  },
  {
   "cell_type": "code",
   "execution_count": 18,
   "metadata": {},
   "outputs": [
    {
     "name": "stdout",
     "output_type": "stream",
     "text": [
      "El número 5 es el que más se repite, con 3 repeticiones\n"
     ]
    }
   ],
   "source": [
    "f.modal()"
   ]
  },
  {
   "cell_type": "code",
   "execution_count": 19,
   "metadata": {},
   "outputs": [
    {
     "name": "stdout",
     "output_type": "stream",
     "text": [
      "Para el valor 5 en F al pasarlo a C se obtiene -15.0 grados\n",
      "Para el valor 4 en F al pasarlo a C se obtiene -15.555555555555555 grados\n",
      "Para el valor 1 en F al pasarlo a C se obtiene -17.22222222222222 grados\n",
      "Para el valor 5 en F al pasarlo a C se obtiene -15.0 grados\n",
      "Para el valor 5 en F al pasarlo a C se obtiene -15.0 grados\n",
      "Para el valor 3 en F al pasarlo a C se obtiene -16.11111111111111 grados\n",
      "Para el valor 4 en F al pasarlo a C se obtiene -15.555555555555555 grados\n"
     ]
    }
   ],
   "source": [
    "f.grados_lista(\"F\",\"C\")"
   ]
  },
  {
   "cell_type": "code",
   "execution_count": 123,
   "metadata": {},
   "outputs": [
    {
     "name": "stdout",
     "output_type": "stream",
     "text": [
      "son primos los siguentes: [1, 5, 5, 5, 3]\n",
      "No son primos los siguientes [4, 1, 4]\n"
     ]
    },
    {
     "data": {
      "text/plain": [
       "(None, None)"
      ]
     },
     "execution_count": 123,
     "metadata": {},
     "output_type": "execute_result"
    }
   ],
   "source": [
    "f.primos_lista()"
   ]
  }
 ],
 "metadata": {
  "interpreter": {
   "hash": "c85384e4cb51c8b72350f3a8712cc8351fdc3955e32a27f9b60c6242ab125f01"
  },
  "kernelspec": {
   "display_name": "Python 3 (ipykernel)",
   "language": "python",
   "name": "python3"
  },
  "language_info": {
   "codemirror_mode": {
    "name": "ipython",
    "version": 3
   },
   "file_extension": ".py",
   "mimetype": "text/x-python",
   "name": "python",
   "nbconvert_exporter": "python",
   "pygments_lexer": "ipython3",
   "version": "3.11.3"
  }
 },
 "nbformat": 4,
 "nbformat_minor": 4
}
