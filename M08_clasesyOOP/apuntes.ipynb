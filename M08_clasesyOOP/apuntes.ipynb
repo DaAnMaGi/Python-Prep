{
 "cells": [
  {
   "cell_type": "code",
   "execution_count": 34,
   "metadata": {},
   "outputs": [
    {
     "name": "stdout",
     "output_type": "stream",
     "text": [
      "Clase 8\n"
     ]
    }
   ],
   "source": [
    "print(\"Clase 8\")"
   ]
  },
  {
   "attachments": {},
   "cell_type": "markdown",
   "metadata": {},
   "source": [
    "Clases y objetos"
   ]
  },
  {
   "cell_type": "code",
   "execution_count": 35,
   "metadata": {},
   "outputs": [],
   "source": [
    "# POO = Programación Orientada a Objetos. Representa un paradigma de la programación que busca replicar, hasta cierto punto, la forma de comprensión humana de la información.\n",
    "\n",
    "# Clases = plantillas que determinan cómo deben crearse los objetos.\n",
    "\n",
    "# Instanciar = crear un objeto a partir de una clase.\n",
    "\n",
    "# Objeto = Instancia de la clase a la que pertenece. Cuentan con atributos y métodos.\n",
    "        # los atributos = son  características del objeto.\n",
    "        # métodos = son acciones que el objeto puede realizar."
   ]
  },
  {
   "attachments": {},
   "cell_type": "markdown",
   "metadata": {},
   "source": [
    "Sintaxis de las clases"
   ]
  },
  {
   "cell_type": "code",
   "execution_count": 36,
   "metadata": {},
   "outputs": [],
   "source": [
    "class Gato:\n",
    "    def __init__(self,nombre,edad,raza,sexo):\n",
    "        self.nombre = nombre\n",
    "        self.edad = edad\n",
    "        self.raza = raza\n",
    "        self.sexo = sexo\n",
    "\n",
    "    # Método presentar\n",
    "    def presentar(self):\n",
    "        return print(\"Nombre:\",self.nombre,\n",
    "                     \"Edad:\",self.edad,\n",
    "                     \"Raza:\",self.raza,\n",
    "                     \"Sexo:\",self.sexo)"
   ]
  },
  {
   "cell_type": "code",
   "execution_count": 37,
   "metadata": {},
   "outputs": [],
   "source": [
    "gato1 = Gato(\"Pompón\",2,\"Siames\",\"Macho\")"
   ]
  },
  {
   "cell_type": "code",
   "execution_count": 38,
   "metadata": {},
   "outputs": [
    {
     "name": "stdout",
     "output_type": "stream",
     "text": [
      "Nombre: Pompón Edad: 2 Raza: Siames Sexo: Macho\n"
     ]
    }
   ],
   "source": [
    "gato1.presentar()"
   ]
  },
  {
   "attachments": {},
   "cell_type": "markdown",
   "metadata": {},
   "source": [
    "Pilares de la POO"
   ]
  },
  {
   "cell_type": "code",
   "execution_count": 39,
   "metadata": {},
   "outputs": [],
   "source": [
    "# Son 4 pilares:\n",
    "    # Abstracción\n",
    "    # Encapsulamiento\n",
    "    # Herencia  \n",
    "    # Polimorfismo"
   ]
  },
  {
   "cell_type": "code",
   "execution_count": 40,
   "metadata": {},
   "outputs": [],
   "source": [
    "# Ejemplo de encapsulamiento \n",
    "\n",
    "class CuentaBancaria:\n",
    "    def __init__(self,saldo):\n",
    "        self.__saldo: saldo # El atributo saldo está encapsulado con __\n",
    "    def depositar(self,monto):\n",
    "        self.__saldo += monto\n",
    "    def retirar(self,monto):\n",
    "        if self.__saldo >= monto:\n",
    "            self.__saldo -= monto\n",
    "        else:\n",
    "            print(\"Saldo insuficiente\")\n",
    "    def obtener_saldo(self):\n",
    "        return self.__saldo"
   ]
  },
  {
   "cell_type": "code",
   "execution_count": 41,
   "metadata": {},
   "outputs": [],
   "source": [
    "# Ejemplo herencia\n",
    "\n",
    "class Gato:\n",
    "    def __init__(self,nombre,edad,raza,sexo):\n",
    "        self.nombre = nombre\n",
    "        self.edad = edad\n",
    "        self.raza = raza\n",
    "        self.sexo = sexo\n",
    "\n",
    "    # Método presentar\n",
    "    def presentar(self):\n",
    "        return print(\"Nombre:\",self.nombre,\n",
    "                     \"Edad:\",self.edad,\n",
    "                     \"Raza:\",self.raza,\n",
    "                     \"Sexo:\",self.sexo)"
   ]
  },
  {
   "cell_type": "code",
   "execution_count": 42,
   "metadata": {},
   "outputs": [
    {
     "name": "stdout",
     "output_type": "stream",
     "text": [
      "Nombre: Nina Edad: 3 Raza: Mezcla Sexo: Hembra\n"
     ]
    }
   ],
   "source": [
    "gato2 = Gato(\"Nina\",3,\"Mezcla\",\"Hembra\")\n",
    "\n",
    "gato2.presentar()"
   ]
  },
  {
   "cell_type": "code",
   "execution_count": 43,
   "metadata": {},
   "outputs": [],
   "source": [
    "# Ejemplo de polimorfismo\n",
    "\n",
    "class Animal:\n",
    "    def __init__(self,especie,edad,color):\n",
    "        self.especie = especie\n",
    "        self.edad = edad\n",
    "        self.color = color\n",
    "\n",
    "    def mePresento(self):\n",
    "        print(\"Hola, soy:\",self.especie,\"de color\",self.color,\"y tengo\",self.edad,\"años\")\n",
    "    \n",
    "    def cumplirAños(self):\n",
    "        self.edad += 1"
   ]
  },
  {
   "cell_type": "code",
   "execution_count": 44,
   "metadata": {},
   "outputs": [],
   "source": [
    "a1 = Animal (\"Ratón\",2,\"marrón\")\n",
    "a2 = Animal(\"Liebre\",3,\"gris\")"
   ]
  },
  {
   "cell_type": "code",
   "execution_count": 45,
   "metadata": {},
   "outputs": [
    {
     "name": "stdout",
     "output_type": "stream",
     "text": [
      "Ratón\n",
      "2\n",
      "Liebre\n",
      "3\n"
     ]
    }
   ],
   "source": [
    "print(a1.especie)\n",
    "print(a1.edad)\n",
    "print(a2.especie)\n",
    "print(a2.edad)"
   ]
  },
  {
   "cell_type": "code",
   "execution_count": 46,
   "metadata": {},
   "outputs": [
    {
     "name": "stdout",
     "output_type": "stream",
     "text": [
      "Hola, soy: Ratón de color marrón y tengo 2 años\n",
      "Hola, soy: Liebre de color gris y tengo 3 años\n"
     ]
    }
   ],
   "source": [
    "a1.mePresento()\n",
    "a2.mePresento()"
   ]
  },
  {
   "cell_type": "code",
   "execution_count": 47,
   "metadata": {},
   "outputs": [],
   "source": [
    "a1.cumplirAños()\n",
    "a2.cumplirAños()"
   ]
  },
  {
   "cell_type": "code",
   "execution_count": 48,
   "metadata": {},
   "outputs": [
    {
     "name": "stdout",
     "output_type": "stream",
     "text": [
      "Hola, soy: Ratón de color marrón y tengo 3 años\n",
      "Hola, soy: Liebre de color gris y tengo 4 años\n"
     ]
    }
   ],
   "source": [
    "a1.mePresento()\n",
    "a2.mePresento()"
   ]
  },
  {
   "attachments": {},
   "cell_type": "markdown",
   "metadata": {},
   "source": [
    "Profundización en herencia"
   ]
  },
  {
   "cell_type": "code",
   "execution_count": 49,
   "metadata": {},
   "outputs": [],
   "source": [
    "class Animal:\n",
    "    def __init__(self,especie,edad):\n",
    "        self.especie = especie\n",
    "        self.edad = edad\n",
    "    # Método generico con implementación particular.\n",
    "    def hablar(self):\n",
    "        #Método vacío\n",
    "        pass\n",
    "    # Método generico con implementación particular.\n",
    "    def moverser(self):\n",
    "        #Método vacío\n",
    "        pass\n",
    "    #Método generico con implementación particular.\n",
    "    def describeme (self):\n",
    "        return print (\"Soy un animal del tipo\",type(self).__name__)\n",
    "    \n"
   ]
  },
  {
   "cell_type": "code",
   "execution_count": 50,
   "metadata": {},
   "outputs": [],
   "source": [
    "# Perro hereda de animal\n",
    "\n",
    "class Perro(Animal):\n",
    "    pass"
   ]
  },
  {
   "cell_type": "code",
   "execution_count": 51,
   "metadata": {},
   "outputs": [
    {
     "name": "stdout",
     "output_type": "stream",
     "text": [
      "Soy un animal del tipo Perro\n"
     ]
    }
   ],
   "source": [
    "mi_perrro = Perro(\"Mamífero\",10)\n",
    "mi_perrro.describeme()"
   ]
  },
  {
   "cell_type": "code",
   "execution_count": 52,
   "metadata": {},
   "outputs": [],
   "source": [
    "class Perro(Animal):\n",
    "    def hablar(self):\n",
    "        return print(\"Guau!\")\n",
    "\n",
    "    def moverse(self):\n",
    "        return print (\"Caminando con 4 patas\")"
   ]
  },
  {
   "cell_type": "code",
   "execution_count": 53,
   "metadata": {},
   "outputs": [],
   "source": [
    "class Vaca(Animal):\n",
    "    def hablar (self):\n",
    "        return print(\"Muu!\")\n",
    "    def moverse(self):\n",
    "        return print (\"Caminando con 4 patas\")"
   ]
  },
  {
   "cell_type": "code",
   "execution_count": 54,
   "metadata": {},
   "outputs": [],
   "source": [
    "class Abeja(Animal):\n",
    "    def hablar(self):\n",
    "        return print(\"Bzz!\")\n",
    "    def moverse(self):\n",
    "        return print (\"Volando\")\n",
    "    # Nuevo método\n",
    "    \n",
    "    def picar(self):\n",
    "        print (\"Picar\")"
   ]
  },
  {
   "cell_type": "code",
   "execution_count": 55,
   "metadata": {},
   "outputs": [],
   "source": [
    "mi_perrro = Perro(\"Mamífero\",10)\n",
    "mi_vaca = Vaca(\"Mamífero\",23)\n",
    "mi_abeja = Abeja(\"Insecto\",1)"
   ]
  },
  {
   "cell_type": "code",
   "execution_count": 56,
   "metadata": {},
   "outputs": [
    {
     "name": "stdout",
     "output_type": "stream",
     "text": [
      "Muu!\n"
     ]
    }
   ],
   "source": [
    "mi_vaca.hablar()"
   ]
  },
  {
   "cell_type": "code",
   "execution_count": 57,
   "metadata": {},
   "outputs": [
    {
     "name": "stdout",
     "output_type": "stream",
     "text": [
      "Soy un animal del tipo Abeja\n"
     ]
    }
   ],
   "source": [
    "mi_abeja.describeme()"
   ]
  },
  {
   "cell_type": "code",
   "execution_count": 58,
   "metadata": {},
   "outputs": [
    {
     "name": "stdout",
     "output_type": "stream",
     "text": [
      "Picar\n"
     ]
    }
   ],
   "source": [
    "mi_abeja.picar()"
   ]
  },
  {
   "cell_type": "code",
   "execution_count": 59,
   "metadata": {},
   "outputs": [],
   "source": [
    "class Animal:\n",
    "    def __init__(self,especie,edad):\n",
    "        self.especie = especie\n",
    "        self.edad = edad\n",
    "    def hablar(self):\n",
    "        pass\n",
    "    def moverse(self):\n",
    "        pass\n",
    "    def describirme(self):\n",
    "        print(\"Soy un animal del tipo\",type(self.__name__))\n",
    "    "
   ]
  },
  {
   "cell_type": "code",
   "execution_count": 60,
   "metadata": {},
   "outputs": [],
   "source": [
    "class Perro(Animal):\n",
    "    def __init__(self, especie, edad,dueño):\n",
    "        self.especie = especie\n",
    "        self.edad = edad\n",
    "        self.dueño = dueño"
   ]
  },
  {
   "cell_type": "code",
   "execution_count": 61,
   "metadata": {},
   "outputs": [],
   "source": [
    "class Perro(Animal):\n",
    "    def __init__(self, especie, edad,dueño):\n",
    "        super().__init__(especie, edad)\n",
    "        self.dueño = dueño"
   ]
  },
  {
   "cell_type": "code",
   "execution_count": 62,
   "metadata": {},
   "outputs": [],
   "source": [
    "nuevo_perro = Perro(\"Mamífero\",7,\"Luis\")"
   ]
  },
  {
   "cell_type": "code",
   "execution_count": 63,
   "metadata": {},
   "outputs": [
    {
     "name": "stdout",
     "output_type": "stream",
     "text": [
      "Mamífero\n",
      "7\n",
      "Luis\n"
     ]
    }
   ],
   "source": [
    "print(nuevo_perro.especie)\n",
    "print(nuevo_perro.edad)\n",
    "print(nuevo_perro.dueño)"
   ]
  },
  {
   "attachments": {},
   "cell_type": "markdown",
   "metadata": {},
   "source": [
    "Bibliotecas y módulos"
   ]
  },
  {
   "cell_type": "code",
   "execution_count": 64,
   "metadata": {},
   "outputs": [],
   "source": [
    "# Módulos \n",
    "    # Son código reutilizable\n",
    "    # Contienen funciones, variables o clases reutilizables.\n",
    "\n",
    "# Biblioteca / Librerías\n",
    "    # Conjuno de módulos organizadas en un directorio.\n",
    "    # Frameworks = archivos de código a los que se invoca al principio de nuestro propio código.\n",
    "        #Ahorra tiempo y esfuerzo.\n",
    "        # Brinda modularidad = separa el código en piezas más pequeñas y manejables\n",
    "        # Hace fácil entender el código y hacer cambios en él sin afectar otras partes del programa.\n",
    "        # Permite hacer uso de funcionalidades más avanzadas y complejas que son díficles de implementar desde cero.\n",
    "        # Aprovchar la experiencia y habilidades de otros programadores.\n",
    "    # Biblioteca math de python:\n",
    "        #permite funcionalidades del código."
   ]
  },
  {
   "cell_type": "code",
   "execution_count": 65,
   "metadata": {},
   "outputs": [
    {
     "name": "stdout",
     "output_type": "stream",
     "text": [
      "4.0\n"
     ]
    }
   ],
   "source": [
    "# Biblioteca math de python\n",
    "\n",
    "import math\n",
    "\n",
    "x = 16\n",
    "raiz_cuadrada = math.sqrt(x)\n",
    "\n",
    "print(raiz_cuadrada)"
   ]
  },
  {
   "cell_type": "code",
   "execution_count": 66,
   "metadata": {},
   "outputs": [
    {
     "name": "stdout",
     "output_type": "stream",
     "text": [
      "7\n",
      "9\n"
     ]
    }
   ],
   "source": [
    "import mimodulo\n",
    "\n",
    "print(mimodulo.suma(4,3))\n",
    "print(mimodulo.resta(19,10))"
   ]
  },
  {
   "cell_type": "code",
   "execution_count": 67,
   "metadata": {},
   "outputs": [
    {
     "name": "stdout",
     "output_type": "stream",
     "text": [
      "14\n"
     ]
    }
   ],
   "source": [
    "from mimodulo import suma\n",
    "\n",
    "print(suma(8,6))"
   ]
  },
  {
   "cell_type": "code",
   "execution_count": 68,
   "metadata": {},
   "outputs": [
    {
     "name": "stdout",
     "output_type": "stream",
     "text": [
      "12\n"
     ]
    }
   ],
   "source": [
    "from mimodulo import *\n",
    "\n",
    "print(resta(22,10))"
   ]
  },
  {
   "attachments": {},
   "cell_type": "markdown",
   "metadata": {},
   "source": [
    "Rutas y navegación de directorios"
   ]
  },
  {
   "cell_type": "code",
   "execution_count": 1,
   "metadata": {},
   "outputs": [],
   "source": [
    "from mimodulo import *\n",
    "\n"
   ]
  },
  {
   "cell_type": "code",
   "execution_count": 2,
   "metadata": {},
   "outputs": [
    {
     "name": "stdout",
     "output_type": "stream",
     "text": [
      "Hola\n",
      "None\n"
     ]
    }
   ],
   "source": [
    "print(hola())"
   ]
  },
  {
   "cell_type": "code",
   "execution_count": 3,
   "metadata": {},
   "outputs": [
    {
     "name": "stdout",
     "output_type": "stream",
     "text": [
      "['c:\\\\Users\\\\dmon2\\\\OneDrive\\\\Desktop\\\\Python-Prep\\\\M08_clasesyOOP', 'C:\\\\Program Files\\\\WindowsApps\\\\PythonSoftwareFoundation.Python.3.11_3.11.1008.0_x64__qbz5n2kfra8p0\\\\python311.zip', 'C:\\\\Program Files\\\\WindowsApps\\\\PythonSoftwareFoundation.Python.3.11_3.11.1008.0_x64__qbz5n2kfra8p0\\\\DLLs', 'C:\\\\Program Files\\\\WindowsApps\\\\PythonSoftwareFoundation.Python.3.11_3.11.1008.0_x64__qbz5n2kfra8p0\\\\Lib', 'C:\\\\Program Files\\\\WindowsApps\\\\PythonSoftwareFoundation.Python.3.11_3.11.1008.0_x64__qbz5n2kfra8p0', '', 'C:\\\\Users\\\\dmon2\\\\AppData\\\\Local\\\\Packages\\\\PythonSoftwareFoundation.Python.3.11_qbz5n2kfra8p0\\\\LocalCache\\\\local-packages\\\\Python311\\\\site-packages', 'C:\\\\Users\\\\dmon2\\\\AppData\\\\Local\\\\Packages\\\\PythonSoftwareFoundation.Python.3.11_qbz5n2kfra8p0\\\\LocalCache\\\\local-packages\\\\Python311\\\\site-packages\\\\win32', 'C:\\\\Users\\\\dmon2\\\\AppData\\\\Local\\\\Packages\\\\PythonSoftwareFoundation.Python.3.11_qbz5n2kfra8p0\\\\LocalCache\\\\local-packages\\\\Python311\\\\site-packages\\\\win32\\\\lib', 'C:\\\\Users\\\\dmon2\\\\AppData\\\\Local\\\\Packages\\\\PythonSoftwareFoundation.Python.3.11_qbz5n2kfra8p0\\\\LocalCache\\\\local-packages\\\\Python311\\\\site-packages\\\\Pythonwin', 'C:\\\\Program Files\\\\WindowsApps\\\\PythonSoftwareFoundation.Python.3.11_3.11.1008.0_x64__qbz5n2kfra8p0\\\\Lib\\\\site-packages']\n"
     ]
    }
   ],
   "source": [
    "import sys\n",
    "print(sys.path)\n",
    "\n",
    "# Sirve para traer la ruta en la que se está trabajando."
   ]
  },
  {
   "cell_type": "code",
   "execution_count": null,
   "metadata": {},
   "outputs": [],
   "source": [
    "import sys\n",
    "\n",
    "sys.path.append(r\"/ruta/del/módulo\")\n",
    "\n",
    "# Al agregar nuevas rutas al sys.path, podemos traer módulos de otras rutas. Es necesario que estas rutas se traigan manualmente. "
   ]
  },
  {
   "cell_type": "code",
   "execution_count": 4,
   "metadata": {},
   "outputs": [
    {
     "name": "stdout",
     "output_type": "stream",
     "text": [
      "Hola\n",
      "None\n"
     ]
    }
   ],
   "source": [
    "import mimodulo as m \n",
    "\n",
    "# Nos permite hacer cambio del nombre del módulo que se quiera traer, haciendo uso de un alias. \n",
    "\n",
    "print(m.hola())"
   ]
  },
  {
   "cell_type": "code",
   "execution_count": 5,
   "metadata": {},
   "outputs": [
    {
     "name": "stdout",
     "output_type": "stream",
     "text": [
      "['In', 'Out', '_', '__', '___', '__builtin__', '__builtins__', '__doc__', '__loader__', '__name__', '__package__', '__spec__', '__vsc_ipynb_file__', '_dh', '_i', '_i1', '_i2', '_i3', '_i4', '_i5', '_ih', '_ii', '_iii', '_oh', 'exit', 'get_ipython', 'hola', 'm', 'open', 'quit', 'resta', 'suma', 'sys']\n"
     ]
    }
   ],
   "source": [
    "print(dir()) # Nos permite traer los nombres reservados de Python."
   ]
  },
  {
   "cell_type": "code",
   "execution_count": 8,
   "metadata": {},
   "outputs": [
    {
     "name": "stdout",
     "output_type": "stream",
     "text": [
      "['__builtins__', '__cached__', '__doc__', '__file__', '__loader__', '__name__', '__package__', '__spec__', 'hola', 'resta', 'suma']\n",
      "c:\\Users\\dmon2\\OneDrive\\Desktop\\Python-Prep\\M08_clasesyOOP\\mimodulo.py\n"
     ]
    }
   ],
   "source": [
    "print(dir(m))\n",
    "\n",
    "print(m.__file__) # Permite imprimir la ruta del documento."
   ]
  },
  {
   "cell_type": "code",
   "execution_count": 9,
   "metadata": {},
   "outputs": [
    {
     "name": "stdout",
     "output_type": "stream",
     "text": [
      "c:\\Users\\dmon2\\OneDrive\\Desktop\\Python-Prep\\M08_clasesyOOP\\mimodulo.py\n",
      "La suma es: 3\n",
      "c:\\Users\\dmon2\\OneDrive\\Desktop\\Python-Prep\\M08_clasesyOOP\\mimodulo.py\n",
      "La suma es: 3\n"
     ]
    },
    {
     "data": {
      "text/plain": [
       "<module 'mimodulo' from 'c:\\\\Users\\\\dmon2\\\\OneDrive\\\\Desktop\\\\Python-Prep\\\\M08_clasesyOOP\\\\mimodulo.py'>"
      ]
     },
     "execution_count": 9,
     "metadata": {},
     "output_type": "execute_result"
    }
   ],
   "source": [
    "# Si no se encuentra el módulo, va a generar un error.\n",
    "# Los módulos son cargados una sola vez.\n",
    "    # Si queremos que el módulo vuelva a ser cargado, es necesario que lo hagamos explícito al momento de realizarlo.\n",
    "\n",
    "import mimodulo\n",
    "import importlib\n",
    "\n",
    "importlib.reload(mimodulo)\n",
    "importlib.reload(mimodulo)"
   ]
  }
 ],
 "metadata": {
  "kernelspec": {
   "display_name": "Python 3",
   "language": "python",
   "name": "python3"
  },
  "language_info": {
   "codemirror_mode": {
    "name": "ipython",
    "version": 3
   },
   "file_extension": ".py",
   "mimetype": "text/x-python",
   "name": "python",
   "nbconvert_exporter": "python",
   "pygments_lexer": "ipython3",
   "version": "3.11.3"
  },
  "orig_nbformat": 4
 },
 "nbformat": 4,
 "nbformat_minor": 2
}
