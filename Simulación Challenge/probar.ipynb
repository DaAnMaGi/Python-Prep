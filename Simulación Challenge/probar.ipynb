{
 "cells": [
  {
   "cell_type": "code",
   "execution_count": 59,
   "metadata": {},
   "outputs": [],
   "source": [
    "def Factorial(numero):\n",
    "    '''\n",
    "    Esta función devuelve el factorial del número pasado como parámetro.\n",
    "    En caso de que no sea de tipo entero y/o sea menor que 1, debe retornar nulo.\n",
    "    Recibe un argumento:\n",
    "        numero: Será el número con el que se calcule el factorial\n",
    "    Ej:\n",
    "        Factorial(4) debe retornar 24\n",
    "        Factorial(-2) debe retornar nulo\n",
    "    '''\n",
    "    #Tu código aca:\n",
    "    if type(numero) != int:\n",
    "        return None\n",
    "    elif numero < 1:\n",
    "        return None\n",
    "    else: \n",
    "        if numero == 1:\n",
    "            numero = 1\n",
    "        else:\n",
    "            numero = numero*Factorial(numero-1)\n",
    "    return numero\n"
   ]
  },
  {
   "cell_type": "code",
   "execution_count": 62,
   "metadata": {},
   "outputs": [
    {
     "name": "stdout",
     "output_type": "stream",
     "text": [
      "None\n",
      "5040\n",
      "120\n",
      "24\n",
      "None\n",
      "None\n",
      "71569457046263802294811533723186532165584657342365752577109445058227039255480148842668944867280814080000000000000000000\n",
      "362880\n"
     ]
    }
   ],
   "source": [
    "print(Factorial(-5))\n",
    "print(Factorial(7))\n",
    "print(Factorial(5))\n",
    "print(Factorial(4))\n",
    "print(Factorial(\"Hello world\"))\n",
    "print(Factorial(4.5))\n",
    "print(Factorial(80))\n",
    "print(Factorial(9))"
   ]
  },
  {
   "cell_type": "code",
   "execution_count": 110,
   "metadata": {},
   "outputs": [],
   "source": []
  },
  {
   "attachments": {},
   "cell_type": "markdown",
   "metadata": {},
   "source": [
    "#2"
   ]
  },
  {
   "cell_type": "code",
   "execution_count": 32,
   "metadata": {},
   "outputs": [],
   "source": [
    "def EsPrimo(valor):\n",
    "    '''\n",
    "    Esta función devuelve el valor booleano True si el número reibido como parámetro es primo, de lo \n",
    "    contrario devuelve False..\n",
    "    En caso de que el parámetro no sea de tipo entero debe retornar nulo.\n",
    "    Recibe un argumento:\n",
    "        valor: Será el número a evaluar\n",
    "    Ej:\n",
    "        EsPrimo(7) debe retornar True\n",
    "        EsPrimo(8) debe retornar False\n",
    "    '''\n",
    "    #Tu código aca:\n",
    "    if type(valor) != int:\n",
    "        return None\n",
    "    for e in range(2,valor):\n",
    "        if valor%e == 0:\n",
    "            primo = False\n",
    "            break\n",
    "        else: primo = True\n",
    "    return primo"
   ]
  },
  {
   "cell_type": "code",
   "execution_count": 10,
   "metadata": {},
   "outputs": [
    {
     "data": {
      "text/plain": [
       "int"
      ]
     },
     "execution_count": 10,
     "metadata": {},
     "output_type": "execute_result"
    }
   ],
   "source": [
    "type(7)"
   ]
  },
  {
   "cell_type": "code",
   "execution_count": 33,
   "metadata": {},
   "outputs": [
    {
     "name": "stdout",
     "output_type": "stream",
     "text": [
      "True\n",
      "False\n",
      "False\n",
      "False\n",
      "True\n",
      "True\n",
      "True\n",
      "False\n",
      "False\n",
      "True\n",
      "True\n",
      "True\n",
      "True\n",
      "False\n",
      "None\n"
     ]
    }
   ],
   "source": [
    "print(EsPrimo(7))\n",
    "print(EsPrimo(8))\n",
    "print(EsPrimo(122))\n",
    "print(EsPrimo(123))\n",
    "print(EsPrimo(3))\n",
    "print(EsPrimo(11))\n",
    "print(EsPrimo(251))\n",
    "print(EsPrimo(282589933))\n",
    "print(EsPrimo(87))\n",
    "print(EsPrimo(587))\n",
    "print(EsPrimo(823))\n",
    "print(EsPrimo(617))\n",
    "print(EsPrimo(229))\n",
    "print(EsPrimo(1000))\n",
    "print(EsPrimo(\"hello world\"))\n"
   ]
  },
  {
   "attachments": {},
   "cell_type": "markdown",
   "metadata": {},
   "source": [
    "3) "
   ]
  },
  {
   "cell_type": "code",
   "execution_count": 47,
   "metadata": {},
   "outputs": [],
   "source": [
    "def ClaseAnimal(especie, color):\n",
    "    '''\n",
    "    Esta función devuelve un objeto instanciado de la clase Animal, \n",
    "    la cual debe tener los siguientes atributos:\n",
    "        Edad    (Un valor de tipo de dato entero, que debe inicializarse en cero)\n",
    "        Especie (Un valor de tipo de dato string)\n",
    "        Color   (Un valor de tipo de dato string)\n",
    "    y debe tener el siguiente método:\n",
    "        CumplirAnios  (este método debe sumar uno al atributo Edad y debe devolver ese valor)\n",
    "    Recibe dos argumento:\n",
    "        especie: Dato que se asignará al atributo Especie del objeto de la clase Animal\n",
    "        color: Dato que se asignará al atributo Color del objeto de la clase Animal\n",
    "    Ej:\n",
    "        a = ClaseAnimal('perro','blanco')\n",
    "        a.CumpliAnios() -> debe devolver 1\n",
    "        a.CumpliAnios() -> debe devolver 2\n",
    "        a.CumpliAnios() -> debe devolver 3\n",
    "    '''\n",
    "    class Animal():\n",
    "        def __init__(self,especie,color):\n",
    "            self.especie = especie\n",
    "            self.color = color\n",
    "            edad = 0\n",
    "            self.edad = edad\n",
    "            \n",
    "        \n",
    "        def CumplirAnios(self):\n",
    "            self.edad +=1\n",
    "            return self.edad\n",
    "    \n",
    "    objeto = Animal(especie,color)\n",
    "\n",
    "    return objeto"
   ]
  },
  {
   "cell_type": "code",
   "execution_count": 57,
   "metadata": {},
   "outputs": [
    {
     "name": "stdout",
     "output_type": "stream",
     "text": [
      "Gato\n",
      "Blanco\n",
      "0\n",
      "Perro\n",
      "Marron\n",
      "0\n",
      "1\n",
      "1\n"
     ]
    }
   ],
   "source": [
    "a = ClaseAnimal(\"Gato\",\"Blanco\")\n",
    "\n",
    "b = ClaseAnimal(\"Perro\",\"Marron\")\n",
    "\n",
    "print(a.especie)\n",
    "print(a.color)\n",
    "print(a.edad)\n",
    "print(b.especie)\n",
    "print(b.color)\n",
    "print(b.edad)\n",
    "print(a.CumplirAnios())\n",
    "print(b.CumplirAnios())\n"
   ]
  },
  {
   "cell_type": "code",
   "execution_count": 54,
   "metadata": {},
   "outputs": [
    {
     "data": {
      "text/plain": [
       "2"
      ]
     },
     "execution_count": 54,
     "metadata": {},
     "output_type": "execute_result"
    }
   ],
   "source": [
    "a.CumplirAnios()"
   ]
  },
  {
   "cell_type": "code",
   "execution_count": 55,
   "metadata": {},
   "outputs": [
    {
     "data": {
      "text/plain": [
       "3"
      ]
     },
     "execution_count": 55,
     "metadata": {},
     "output_type": "execute_result"
    }
   ],
   "source": [
    "a.CumplirAnios()"
   ]
  }
 ],
 "metadata": {
  "kernelspec": {
   "display_name": "Python 3",
   "language": "python",
   "name": "python3"
  },
  "language_info": {
   "codemirror_mode": {
    "name": "ipython",
    "version": 3
   },
   "file_extension": ".py",
   "mimetype": "text/x-python",
   "name": "python",
   "nbconvert_exporter": "python",
   "pygments_lexer": "ipython3",
   "version": "3.11.3"
  },
  "orig_nbformat": 4
 },
 "nbformat": 4,
 "nbformat_minor": 2
}
